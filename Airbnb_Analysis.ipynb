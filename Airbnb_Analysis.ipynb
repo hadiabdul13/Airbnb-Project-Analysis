{
 "cells": [
  {
   "cell_type": "markdown",
   "metadata": {},
   "source": [
    "# **How to Increase Occupancy Rate of AirBNB in Bangkok? An Analysis Based on Dataset AirBNB Listings 2013-2022**\n",
    "\n",
    "During my time at Purwadhika Yogyakarta, I worked on a capstone project where I had the chance to explore and analyze Airbnb listing data from 2013 to 2022. The goal was to put my data analysis skills to the test and see how I could turn raw data into real insights that matter.\n",
    "\n",
    "I started by getting to know the dataset and asking some key questions:\n",
    "\n",
    "1. Who are the key stakeholders who would benefit from this analysis?\n",
    "2. What specific challenges or pain points might these stakeholders encounter in managing Airbnb listings?\n",
    "3. What preliminary hypotheses or patterns could potentially address these challenges?\n",
    "4. To what extent does the data validate or contradict these hypotheses?\n",
    "\n",
    "**Data Source**: The dataset used for this analysis can be downloaded **[here](https://drive.google.com/file/d/1kzEh4nclYmCMEwV4HmsaUdb6NwQlV3LR/view?usp=sharing)**. The explanations for the Airbnb dataset are as follows:\n",
    "\n",
    "| Column                          | Description                                                                                                                                                 |\n",
    "|----------------------------------|-------------------------------------------------------------------------------------------------------------------------------------------------------------|\n",
    "| `id`                             | Unique identifier for the listing on Airbnb.                                                                                                                |\n",
    "| `name`                           | Name of the listing.                                                                                                                                        |\n",
    "| `host_id`                        | Unique identifier for the host/user on Airbnb.                                                                                                              |\n",
    "| `host_name`                      | Name of the host.                                                                                                                                            |\n",
    "| `latitude`                       | Latitude coordinate using the World Geodetic System (WGS84) projection.                                                                                     |\n",
    "| `longitude`                      | Longitude coordinate using the World Geodetic System (WGS84) projection.                                                                                    |\n",
    "| `room_type`                      | Type of room: Entire home/apt, Private room, Shared room, Hotel.                                                                                            |\n",
    "| `price`                          | Daily price in local currency.                                                                             |\n",
    "| `minimum_nights`                 | The minimum number of nights required for the listing.                                                                          |\n",
    "| `number_of_reviews`              | The number of reviews the listing has.                                                                                                                      |\n",
    "| `reviews_per_month`              | The average number of reviews per month the listing has over the lifetime of the listing.                                                                   |\n",
    "| `last_review`                    | The date of the last/newest review.                                                                                                                         |\n",
    "| `calculated_host_listings_count`| The number of listings the host has in the current scrape in the city/region geography.                                                                     |\n",
    "| `availability_365`              | Availability in the next 365 days. Note: A listing may be unavailable due to bookings or being blocked by the host.                                        |\n",
    "| `number_of_reviews_ltm`         | The number of reviews the listing has received in the last 12 months.                                                                                       |\n",
    "\n",
    "After conducting basic analyses to understand the data, here is the context I developed.\n",
    "\n",
    "**Objective of Analysis**\n",
    "\n",
    "The objective of this analysis is to provide insights for Airbnb's management. I aim to investigate existing problems and offer recommendations to improve the two most important aspects: sales and profits. Additionally, I will suggest new areas for listing expansion to further enhance sales and profitability.\n",
    "\n",
    "**Problem Statement & Provisional Hypotheses**\n",
    "\n",
    "When discussing sales and profits, it is closely related to traffic (occupancy rates) and determining the optimal price. Therefore, I formulated several problems to be developed into questions to assist in data exploration.\n",
    "\n",
    "A. Maximizing Occupancy Rates -> Traffic\n",
    "\n",
    "   What makes Airbnb proporties have low occupancy rates?\n",
    "   In exploring this analysis, I use the key metric in the `availability_365` column. This is because the lower the availability value, the more bookings a listing has, and vice versa.\n",
    "\n",
    "B. Optimal Profit -> Price\n",
    "\n",
    "   What is the optimal price that hosts can set, attracting interest while still generating profits?\n",
    "   In exploring this analysis, I use the key metric of price. This is because, assumably, the higher the price, the fewer customers want to book, and vice versa.\n",
    "\n",
    "C. Listing Expansion -> Neighbourhood\n",
    "   \n",
    "   Which neighbourhoods offer the most potential for expanding listings based on customer demand and listing property supply?\n",
    "   To explore this, I examine key metrics, namely occupancy rates by neighborhood and the total number of listings in those areas. This analysis helps identify high-performing neighborhoods where listings are more likely to attract bookings and generate competitive returns.\n",
    "\n"
   ]
  },
  {
   "cell_type": "markdown",
   "metadata": {},
   "source": [
    "## **1. Data Understanding & Preprocessing**\n",
    "\n",
    "Data understanding is an initial phase in the data science process where an analyst explore and assess the dataset before proceeding to data preparation and modeling. \n",
    "\n",
    "This step involves collecting data from relevant sources (in this case, loading the dataset), examining its structure, identifying missing values, detecting outliers, and assessing overall data quality. Exploratory Data Analysis (EDA) techniques, such as statistical summaries and visualizations, help uncover patterns, distributions, and relationships between variables. \n",
    "\n",
    "The goal is to ensure the dataset is clean, consistent, and suitable for analysis, preventing potential issues in later stages. By thoroughly understanding the data, analysts can make informed decisions about preprocessing, feature selection, and modeling approaches, ultimately improving the accuracy and reliability of their findings."
   ]
  },
  {
   "cell_type": "code",
   "execution_count": 207,
   "metadata": {},
   "outputs": [],
   "source": [
    "# Loading all important libraries for the analysis\n",
    "\n",
    "import pandas as pd\n",
    "import numpy as np\n",
    "import seaborn as sns\n",
    "import matplotlib.pyplot as plt"
   ]
  },
  {
   "cell_type": "code",
   "execution_count": 208,
   "metadata": {},
   "outputs": [],
   "source": [
    "# Load Airbnb listings Bangkok dataset\n",
    "\n",
    "df = pd.read_csv('Airbnb Listings Bangkok.csv').drop('Unnamed: 0', axis=1)"
   ]
  },
  {
   "cell_type": "code",
   "execution_count": 209,
   "metadata": {},
   "outputs": [
    {
     "data": {
      "text/html": [
       "<div>\n",
       "<style scoped>\n",
       "    .dataframe tbody tr th:only-of-type {\n",
       "        vertical-align: middle;\n",
       "    }\n",
       "\n",
       "    .dataframe tbody tr th {\n",
       "        vertical-align: top;\n",
       "    }\n",
       "\n",
       "    .dataframe thead th {\n",
       "        text-align: right;\n",
       "    }\n",
       "</style>\n",
       "<table border=\"1\" class=\"dataframe\">\n",
       "  <thead>\n",
       "    <tr style=\"text-align: right;\">\n",
       "      <th></th>\n",
       "      <th>id</th>\n",
       "      <th>name</th>\n",
       "      <th>host_id</th>\n",
       "      <th>host_name</th>\n",
       "      <th>neighbourhood</th>\n",
       "      <th>latitude</th>\n",
       "      <th>longitude</th>\n",
       "      <th>room_type</th>\n",
       "      <th>price</th>\n",
       "      <th>minimum_nights</th>\n",
       "      <th>number_of_reviews</th>\n",
       "      <th>last_review</th>\n",
       "      <th>reviews_per_month</th>\n",
       "      <th>calculated_host_listings_count</th>\n",
       "      <th>availability_365</th>\n",
       "      <th>number_of_reviews_ltm</th>\n",
       "    </tr>\n",
       "  </thead>\n",
       "  <tbody>\n",
       "    <tr>\n",
       "      <th>count</th>\n",
       "      <td>1.585400e+04</td>\n",
       "      <td>15846</td>\n",
       "      <td>15854.0</td>\n",
       "      <td>15853</td>\n",
       "      <td>15854</td>\n",
       "      <td>15854.0</td>\n",
       "      <td>15854.0</td>\n",
       "      <td>15854</td>\n",
       "      <td>15854.0</td>\n",
       "      <td>15854.0</td>\n",
       "      <td>15854.0</td>\n",
       "      <td>10064</td>\n",
       "      <td>10064.0</td>\n",
       "      <td>15854.0</td>\n",
       "      <td>15854.0</td>\n",
       "      <td>15854.0</td>\n",
       "    </tr>\n",
       "    <tr>\n",
       "      <th>unique</th>\n",
       "      <td>NaN</td>\n",
       "      <td>14794</td>\n",
       "      <td>NaN</td>\n",
       "      <td>5312</td>\n",
       "      <td>50</td>\n",
       "      <td>NaN</td>\n",
       "      <td>NaN</td>\n",
       "      <td>4</td>\n",
       "      <td>NaN</td>\n",
       "      <td>NaN</td>\n",
       "      <td>NaN</td>\n",
       "      <td>1669</td>\n",
       "      <td>NaN</td>\n",
       "      <td>NaN</td>\n",
       "      <td>NaN</td>\n",
       "      <td>NaN</td>\n",
       "    </tr>\n",
       "    <tr>\n",
       "      <th>top</th>\n",
       "      <td>NaN</td>\n",
       "      <td>New!  La Chada Night Market studio 2PPL near MRT</td>\n",
       "      <td>NaN</td>\n",
       "      <td>Curry</td>\n",
       "      <td>Vadhana</td>\n",
       "      <td>NaN</td>\n",
       "      <td>NaN</td>\n",
       "      <td>Entire home/apt</td>\n",
       "      <td>NaN</td>\n",
       "      <td>NaN</td>\n",
       "      <td>NaN</td>\n",
       "      <td>2022-12-11</td>\n",
       "      <td>NaN</td>\n",
       "      <td>NaN</td>\n",
       "      <td>NaN</td>\n",
       "      <td>NaN</td>\n",
       "    </tr>\n",
       "    <tr>\n",
       "      <th>freq</th>\n",
       "      <td>NaN</td>\n",
       "      <td>45</td>\n",
       "      <td>NaN</td>\n",
       "      <td>228</td>\n",
       "      <td>2153</td>\n",
       "      <td>NaN</td>\n",
       "      <td>NaN</td>\n",
       "      <td>8912</td>\n",
       "      <td>NaN</td>\n",
       "      <td>NaN</td>\n",
       "      <td>NaN</td>\n",
       "      <td>189</td>\n",
       "      <td>NaN</td>\n",
       "      <td>NaN</td>\n",
       "      <td>NaN</td>\n",
       "      <td>NaN</td>\n",
       "    </tr>\n",
       "    <tr>\n",
       "      <th>mean</th>\n",
       "      <td>1.579397e+17</td>\n",
       "      <td>NaN</td>\n",
       "      <td>154105784.0</td>\n",
       "      <td>NaN</td>\n",
       "      <td>NaN</td>\n",
       "      <td>14.0</td>\n",
       "      <td>101.0</td>\n",
       "      <td>NaN</td>\n",
       "      <td>3218.0</td>\n",
       "      <td>15.0</td>\n",
       "      <td>17.0</td>\n",
       "      <td>NaN</td>\n",
       "      <td>1.0</td>\n",
       "      <td>14.0</td>\n",
       "      <td>244.0</td>\n",
       "      <td>3.0</td>\n",
       "    </tr>\n",
       "    <tr>\n",
       "      <th>std</th>\n",
       "      <td>2.946015e+17</td>\n",
       "      <td>NaN</td>\n",
       "      <td>131872648.0</td>\n",
       "      <td>NaN</td>\n",
       "      <td>NaN</td>\n",
       "      <td>0.0</td>\n",
       "      <td>0.0</td>\n",
       "      <td>NaN</td>\n",
       "      <td>24972.0</td>\n",
       "      <td>51.0</td>\n",
       "      <td>41.0</td>\n",
       "      <td>NaN</td>\n",
       "      <td>1.0</td>\n",
       "      <td>30.0</td>\n",
       "      <td>126.0</td>\n",
       "      <td>9.0</td>\n",
       "    </tr>\n",
       "    <tr>\n",
       "      <th>min</th>\n",
       "      <td>2.793400e+04</td>\n",
       "      <td>NaN</td>\n",
       "      <td>58920.0</td>\n",
       "      <td>NaN</td>\n",
       "      <td>NaN</td>\n",
       "      <td>14.0</td>\n",
       "      <td>100.0</td>\n",
       "      <td>NaN</td>\n",
       "      <td>0.0</td>\n",
       "      <td>1.0</td>\n",
       "      <td>0.0</td>\n",
       "      <td>NaN</td>\n",
       "      <td>0.0</td>\n",
       "      <td>1.0</td>\n",
       "      <td>0.0</td>\n",
       "      <td>0.0</td>\n",
       "    </tr>\n",
       "    <tr>\n",
       "      <th>25%</th>\n",
       "      <td>2.104509e+07</td>\n",
       "      <td>NaN</td>\n",
       "      <td>39744308.0</td>\n",
       "      <td>NaN</td>\n",
       "      <td>NaN</td>\n",
       "      <td>14.0</td>\n",
       "      <td>101.0</td>\n",
       "      <td>NaN</td>\n",
       "      <td>900.0</td>\n",
       "      <td>1.0</td>\n",
       "      <td>0.0</td>\n",
       "      <td>NaN</td>\n",
       "      <td>0.0</td>\n",
       "      <td>1.0</td>\n",
       "      <td>138.0</td>\n",
       "      <td>0.0</td>\n",
       "    </tr>\n",
       "    <tr>\n",
       "      <th>50%</th>\n",
       "      <td>3.503734e+07</td>\n",
       "      <td>NaN</td>\n",
       "      <td>122455569.0</td>\n",
       "      <td>NaN</td>\n",
       "      <td>NaN</td>\n",
       "      <td>14.0</td>\n",
       "      <td>101.0</td>\n",
       "      <td>NaN</td>\n",
       "      <td>1429.0</td>\n",
       "      <td>1.0</td>\n",
       "      <td>2.0</td>\n",
       "      <td>NaN</td>\n",
       "      <td>0.0</td>\n",
       "      <td>4.0</td>\n",
       "      <td>309.0</td>\n",
       "      <td>0.0</td>\n",
       "    </tr>\n",
       "    <tr>\n",
       "      <th>75%</th>\n",
       "      <td>5.256154e+07</td>\n",
       "      <td>NaN</td>\n",
       "      <td>239054688.0</td>\n",
       "      <td>NaN</td>\n",
       "      <td>NaN</td>\n",
       "      <td>14.0</td>\n",
       "      <td>101.0</td>\n",
       "      <td>NaN</td>\n",
       "      <td>2429.0</td>\n",
       "      <td>7.0</td>\n",
       "      <td>13.0</td>\n",
       "      <td>NaN</td>\n",
       "      <td>1.0</td>\n",
       "      <td>13.0</td>\n",
       "      <td>360.0</td>\n",
       "      <td>3.0</td>\n",
       "    </tr>\n",
       "    <tr>\n",
       "      <th>max</th>\n",
       "      <td>7.908162e+17</td>\n",
       "      <td>NaN</td>\n",
       "      <td>492665929.0</td>\n",
       "      <td>NaN</td>\n",
       "      <td>NaN</td>\n",
       "      <td>14.0</td>\n",
       "      <td>101.0</td>\n",
       "      <td>NaN</td>\n",
       "      <td>1100000.0</td>\n",
       "      <td>1125.0</td>\n",
       "      <td>1224.0</td>\n",
       "      <td>NaN</td>\n",
       "      <td>19.0</td>\n",
       "      <td>228.0</td>\n",
       "      <td>365.0</td>\n",
       "      <td>325.0</td>\n",
       "    </tr>\n",
       "  </tbody>\n",
       "</table>\n",
       "</div>"
      ],
      "text/plain": [
       "                  id                                              name  \\\n",
       "count   1.585400e+04                                             15846   \n",
       "unique           NaN                                             14794   \n",
       "top              NaN  New!  La Chada Night Market studio 2PPL near MRT   \n",
       "freq             NaN                                                45   \n",
       "mean    1.579397e+17                                               NaN   \n",
       "std     2.946015e+17                                               NaN   \n",
       "min     2.793400e+04                                               NaN   \n",
       "25%     2.104509e+07                                               NaN   \n",
       "50%     3.503734e+07                                               NaN   \n",
       "75%     5.256154e+07                                               NaN   \n",
       "max     7.908162e+17                                               NaN   \n",
       "\n",
       "            host_id host_name neighbourhood  latitude  longitude  \\\n",
       "count       15854.0     15853         15854   15854.0    15854.0   \n",
       "unique          NaN      5312            50       NaN        NaN   \n",
       "top             NaN     Curry       Vadhana       NaN        NaN   \n",
       "freq            NaN       228          2153       NaN        NaN   \n",
       "mean    154105784.0       NaN           NaN      14.0      101.0   \n",
       "std     131872648.0       NaN           NaN       0.0        0.0   \n",
       "min         58920.0       NaN           NaN      14.0      100.0   \n",
       "25%      39744308.0       NaN           NaN      14.0      101.0   \n",
       "50%     122455569.0       NaN           NaN      14.0      101.0   \n",
       "75%     239054688.0       NaN           NaN      14.0      101.0   \n",
       "max     492665929.0       NaN           NaN      14.0      101.0   \n",
       "\n",
       "              room_type      price  minimum_nights  number_of_reviews  \\\n",
       "count             15854    15854.0         15854.0            15854.0   \n",
       "unique                4        NaN             NaN                NaN   \n",
       "top     Entire home/apt        NaN             NaN                NaN   \n",
       "freq               8912        NaN             NaN                NaN   \n",
       "mean                NaN     3218.0            15.0               17.0   \n",
       "std                 NaN    24972.0            51.0               41.0   \n",
       "min                 NaN        0.0             1.0                0.0   \n",
       "25%                 NaN      900.0             1.0                0.0   \n",
       "50%                 NaN     1429.0             1.0                2.0   \n",
       "75%                 NaN     2429.0             7.0               13.0   \n",
       "max                 NaN  1100000.0          1125.0             1224.0   \n",
       "\n",
       "       last_review  reviews_per_month  calculated_host_listings_count  \\\n",
       "count        10064            10064.0                         15854.0   \n",
       "unique        1669                NaN                             NaN   \n",
       "top     2022-12-11                NaN                             NaN   \n",
       "freq           189                NaN                             NaN   \n",
       "mean           NaN                1.0                            14.0   \n",
       "std            NaN                1.0                            30.0   \n",
       "min            NaN                0.0                             1.0   \n",
       "25%            NaN                0.0                             1.0   \n",
       "50%            NaN                0.0                             4.0   \n",
       "75%            NaN                1.0                            13.0   \n",
       "max            NaN               19.0                           228.0   \n",
       "\n",
       "        availability_365  number_of_reviews_ltm  \n",
       "count            15854.0                15854.0  \n",
       "unique               NaN                    NaN  \n",
       "top                  NaN                    NaN  \n",
       "freq                 NaN                    NaN  \n",
       "mean               244.0                    3.0  \n",
       "std                126.0                    9.0  \n",
       "min                  0.0                    0.0  \n",
       "25%                138.0                    0.0  \n",
       "50%                309.0                    0.0  \n",
       "75%                360.0                    3.0  \n",
       "max                365.0                  325.0  "
      ]
     },
     "execution_count": 209,
     "metadata": {},
     "output_type": "execute_result"
    }
   ],
   "source": [
    "# Checking dataset information\n",
    "\n",
    "round(df.describe(include=\"all\"))"
   ]
  },
  {
   "cell_type": "code",
   "execution_count": 210,
   "metadata": {},
   "outputs": [
    {
     "name": "stdout",
     "output_type": "stream",
     "text": [
      "<class 'pandas.core.frame.DataFrame'>\n",
      "RangeIndex: 15854 entries, 0 to 15853\n",
      "Data columns (total 16 columns):\n",
      " #   Column                          Non-Null Count  Dtype  \n",
      "---  ------                          --------------  -----  \n",
      " 0   id                              15854 non-null  int64  \n",
      " 1   name                            15846 non-null  object \n",
      " 2   host_id                         15854 non-null  int64  \n",
      " 3   host_name                       15853 non-null  object \n",
      " 4   neighbourhood                   15854 non-null  object \n",
      " 5   latitude                        15854 non-null  float64\n",
      " 6   longitude                       15854 non-null  float64\n",
      " 7   room_type                       15854 non-null  object \n",
      " 8   price                           15854 non-null  int64  \n",
      " 9   minimum_nights                  15854 non-null  int64  \n",
      " 10  number_of_reviews               15854 non-null  int64  \n",
      " 11  last_review                     10064 non-null  object \n",
      " 12  reviews_per_month               10064 non-null  float64\n",
      " 13  calculated_host_listings_count  15854 non-null  int64  \n",
      " 14  availability_365                15854 non-null  int64  \n",
      " 15  number_of_reviews_ltm           15854 non-null  int64  \n",
      "dtypes: float64(3), int64(8), object(5)\n",
      "memory usage: 1.9+ MB\n"
     ]
    }
   ],
   "source": [
    "# Checking dataset information\n",
    "\n",
    "df.info()\n",
    "\n",
    "# After checking the dataset, I change the data type of 'last_review' to datetime\n",
    "\n",
    "df['last_review'] = pd.to_datetime(df['last_review'])"
   ]
  },
  {
   "cell_type": "code",
   "execution_count": 211,
   "metadata": {},
   "outputs": [
    {
     "data": {
      "text/html": [
       "<div>\n",
       "<style scoped>\n",
       "    .dataframe tbody tr th:only-of-type {\n",
       "        vertical-align: middle;\n",
       "    }\n",
       "\n",
       "    .dataframe tbody tr th {\n",
       "        vertical-align: top;\n",
       "    }\n",
       "\n",
       "    .dataframe thead th {\n",
       "        text-align: right;\n",
       "    }\n",
       "</style>\n",
       "<table border=\"1\" class=\"dataframe\">\n",
       "  <thead>\n",
       "    <tr style=\"text-align: right;\">\n",
       "      <th></th>\n",
       "      <th>id</th>\n",
       "      <th>host_id</th>\n",
       "      <th>latitude</th>\n",
       "      <th>longitude</th>\n",
       "      <th>price</th>\n",
       "      <th>minimum_nights</th>\n",
       "      <th>number_of_reviews</th>\n",
       "      <th>last_review</th>\n",
       "      <th>reviews_per_month</th>\n",
       "      <th>calculated_host_listings_count</th>\n",
       "      <th>availability_365</th>\n",
       "      <th>number_of_reviews_ltm</th>\n",
       "    </tr>\n",
       "  </thead>\n",
       "  <tbody>\n",
       "    <tr>\n",
       "      <th>count</th>\n",
       "      <td>1.585400e+04</td>\n",
       "      <td>1.585400e+04</td>\n",
       "      <td>15854.000000</td>\n",
       "      <td>15854.000000</td>\n",
       "      <td>1.585400e+04</td>\n",
       "      <td>15854.000000</td>\n",
       "      <td>15854.000000</td>\n",
       "      <td>10064</td>\n",
       "      <td>10064.000000</td>\n",
       "      <td>15854.000000</td>\n",
       "      <td>15854.000000</td>\n",
       "      <td>15854.000000</td>\n",
       "    </tr>\n",
       "    <tr>\n",
       "      <th>mean</th>\n",
       "      <td>1.579397e+17</td>\n",
       "      <td>1.541058e+08</td>\n",
       "      <td>13.745144</td>\n",
       "      <td>100.559903</td>\n",
       "      <td>3.217704e+03</td>\n",
       "      <td>15.292355</td>\n",
       "      <td>16.654157</td>\n",
       "      <td>2021-08-30 08:37:49.316375296</td>\n",
       "      <td>0.813145</td>\n",
       "      <td>13.889618</td>\n",
       "      <td>244.378643</td>\n",
       "      <td>3.481519</td>\n",
       "    </tr>\n",
       "    <tr>\n",
       "      <th>min</th>\n",
       "      <td>2.793400e+04</td>\n",
       "      <td>5.892000e+04</td>\n",
       "      <td>13.527300</td>\n",
       "      <td>100.329550</td>\n",
       "      <td>0.000000e+00</td>\n",
       "      <td>1.000000</td>\n",
       "      <td>0.000000</td>\n",
       "      <td>2012-12-15 00:00:00</td>\n",
       "      <td>0.010000</td>\n",
       "      <td>1.000000</td>\n",
       "      <td>0.000000</td>\n",
       "      <td>0.000000</td>\n",
       "    </tr>\n",
       "    <tr>\n",
       "      <th>25%</th>\n",
       "      <td>2.104509e+07</td>\n",
       "      <td>3.974431e+07</td>\n",
       "      <td>13.720090</td>\n",
       "      <td>100.529690</td>\n",
       "      <td>9.000000e+02</td>\n",
       "      <td>1.000000</td>\n",
       "      <td>0.000000</td>\n",
       "      <td>2020-02-20 00:00:00</td>\n",
       "      <td>0.120000</td>\n",
       "      <td>1.000000</td>\n",
       "      <td>138.000000</td>\n",
       "      <td>0.000000</td>\n",
       "    </tr>\n",
       "    <tr>\n",
       "      <th>50%</th>\n",
       "      <td>3.503734e+07</td>\n",
       "      <td>1.224556e+08</td>\n",
       "      <td>13.738490</td>\n",
       "      <td>100.561415</td>\n",
       "      <td>1.429000e+03</td>\n",
       "      <td>1.000000</td>\n",
       "      <td>2.000000</td>\n",
       "      <td>2022-10-24 00:00:00</td>\n",
       "      <td>0.435000</td>\n",
       "      <td>4.000000</td>\n",
       "      <td>309.000000</td>\n",
       "      <td>0.000000</td>\n",
       "    </tr>\n",
       "    <tr>\n",
       "      <th>75%</th>\n",
       "      <td>5.256154e+07</td>\n",
       "      <td>2.390547e+08</td>\n",
       "      <td>13.759497</td>\n",
       "      <td>100.585150</td>\n",
       "      <td>2.429000e+03</td>\n",
       "      <td>7.000000</td>\n",
       "      <td>13.000000</td>\n",
       "      <td>2022-12-08 00:00:00</td>\n",
       "      <td>1.060000</td>\n",
       "      <td>13.000000</td>\n",
       "      <td>360.000000</td>\n",
       "      <td>3.000000</td>\n",
       "    </tr>\n",
       "    <tr>\n",
       "      <th>max</th>\n",
       "      <td>7.908162e+17</td>\n",
       "      <td>4.926659e+08</td>\n",
       "      <td>13.953540</td>\n",
       "      <td>100.923440</td>\n",
       "      <td>1.100000e+06</td>\n",
       "      <td>1125.000000</td>\n",
       "      <td>1224.000000</td>\n",
       "      <td>2022-12-28 00:00:00</td>\n",
       "      <td>19.130000</td>\n",
       "      <td>228.000000</td>\n",
       "      <td>365.000000</td>\n",
       "      <td>325.000000</td>\n",
       "    </tr>\n",
       "    <tr>\n",
       "      <th>std</th>\n",
       "      <td>2.946015e+17</td>\n",
       "      <td>1.318726e+08</td>\n",
       "      <td>0.043040</td>\n",
       "      <td>0.050911</td>\n",
       "      <td>2.497212e+04</td>\n",
       "      <td>50.815020</td>\n",
       "      <td>40.613331</td>\n",
       "      <td>NaN</td>\n",
       "      <td>1.090196</td>\n",
       "      <td>30.269848</td>\n",
       "      <td>125.843224</td>\n",
       "      <td>8.916937</td>\n",
       "    </tr>\n",
       "  </tbody>\n",
       "</table>\n",
       "</div>"
      ],
      "text/plain": [
       "                 id       host_id      latitude     longitude         price  \\\n",
       "count  1.585400e+04  1.585400e+04  15854.000000  15854.000000  1.585400e+04   \n",
       "mean   1.579397e+17  1.541058e+08     13.745144    100.559903  3.217704e+03   \n",
       "min    2.793400e+04  5.892000e+04     13.527300    100.329550  0.000000e+00   \n",
       "25%    2.104509e+07  3.974431e+07     13.720090    100.529690  9.000000e+02   \n",
       "50%    3.503734e+07  1.224556e+08     13.738490    100.561415  1.429000e+03   \n",
       "75%    5.256154e+07  2.390547e+08     13.759497    100.585150  2.429000e+03   \n",
       "max    7.908162e+17  4.926659e+08     13.953540    100.923440  1.100000e+06   \n",
       "std    2.946015e+17  1.318726e+08      0.043040      0.050911  2.497212e+04   \n",
       "\n",
       "       minimum_nights  number_of_reviews                    last_review  \\\n",
       "count    15854.000000       15854.000000                          10064   \n",
       "mean        15.292355          16.654157  2021-08-30 08:37:49.316375296   \n",
       "min          1.000000           0.000000            2012-12-15 00:00:00   \n",
       "25%          1.000000           0.000000            2020-02-20 00:00:00   \n",
       "50%          1.000000           2.000000            2022-10-24 00:00:00   \n",
       "75%          7.000000          13.000000            2022-12-08 00:00:00   \n",
       "max       1125.000000        1224.000000            2022-12-28 00:00:00   \n",
       "std         50.815020          40.613331                            NaN   \n",
       "\n",
       "       reviews_per_month  calculated_host_listings_count  availability_365  \\\n",
       "count       10064.000000                    15854.000000      15854.000000   \n",
       "mean            0.813145                       13.889618        244.378643   \n",
       "min             0.010000                        1.000000          0.000000   \n",
       "25%             0.120000                        1.000000        138.000000   \n",
       "50%             0.435000                        4.000000        309.000000   \n",
       "75%             1.060000                       13.000000        360.000000   \n",
       "max            19.130000                      228.000000        365.000000   \n",
       "std             1.090196                       30.269848        125.843224   \n",
       "\n",
       "       number_of_reviews_ltm  \n",
       "count           15854.000000  \n",
       "mean                3.481519  \n",
       "min                 0.000000  \n",
       "25%                 0.000000  \n",
       "50%                 0.000000  \n",
       "75%                 3.000000  \n",
       "max               325.000000  \n",
       "std                 8.916937  "
      ]
     },
     "execution_count": 211,
     "metadata": {},
     "output_type": "execute_result"
    }
   ],
   "source": [
    "df.describe()"
   ]
  },
  {
   "cell_type": "markdown",
   "metadata": {},
   "source": [
    "From the description results, I found that the lowest value in the price column is 0, which is not possible. Therefore, I proceeded to remove this data."
   ]
  },
  {
   "cell_type": "code",
   "execution_count": 212,
   "metadata": {},
   "outputs": [
    {
     "data": {
      "text/html": [
       "<div>\n",
       "<style scoped>\n",
       "    .dataframe tbody tr th:only-of-type {\n",
       "        vertical-align: middle;\n",
       "    }\n",
       "\n",
       "    .dataframe tbody tr th {\n",
       "        vertical-align: top;\n",
       "    }\n",
       "\n",
       "    .dataframe thead th {\n",
       "        text-align: right;\n",
       "    }\n",
       "</style>\n",
       "<table border=\"1\" class=\"dataframe\">\n",
       "  <thead>\n",
       "    <tr style=\"text-align: right;\">\n",
       "      <th></th>\n",
       "      <th>id</th>\n",
       "      <th>name</th>\n",
       "      <th>host_id</th>\n",
       "      <th>host_name</th>\n",
       "      <th>neighbourhood</th>\n",
       "      <th>latitude</th>\n",
       "      <th>longitude</th>\n",
       "      <th>room_type</th>\n",
       "      <th>price</th>\n",
       "      <th>minimum_nights</th>\n",
       "      <th>number_of_reviews</th>\n",
       "      <th>last_review</th>\n",
       "      <th>reviews_per_month</th>\n",
       "      <th>calculated_host_listings_count</th>\n",
       "      <th>availability_365</th>\n",
       "      <th>number_of_reviews_ltm</th>\n",
       "    </tr>\n",
       "  </thead>\n",
       "  <tbody>\n",
       "    <tr>\n",
       "      <th>11103</th>\n",
       "      <td>44563108</td>\n",
       "      <td>Somerset Maison Asoke Bangkok</td>\n",
       "      <td>360620448</td>\n",
       "      <td>Somerset Maison Asoke</td>\n",
       "      <td>Vadhana</td>\n",
       "      <td>13.73815</td>\n",
       "      <td>100.5642</td>\n",
       "      <td>Hotel room</td>\n",
       "      <td>0</td>\n",
       "      <td>1</td>\n",
       "      <td>0</td>\n",
       "      <td>NaT</td>\n",
       "      <td>NaN</td>\n",
       "      <td>1</td>\n",
       "      <td>0</td>\n",
       "      <td>0</td>\n",
       "    </tr>\n",
       "  </tbody>\n",
       "</table>\n",
       "</div>"
      ],
      "text/plain": [
       "             id                           name    host_id  \\\n",
       "11103  44563108  Somerset Maison Asoke Bangkok  360620448   \n",
       "\n",
       "                   host_name neighbourhood  latitude  longitude   room_type  \\\n",
       "11103  Somerset Maison Asoke       Vadhana  13.73815   100.5642  Hotel room   \n",
       "\n",
       "       price  minimum_nights  number_of_reviews last_review  \\\n",
       "11103      0               1                  0         NaT   \n",
       "\n",
       "       reviews_per_month  calculated_host_listings_count  availability_365  \\\n",
       "11103                NaN                               1                 0   \n",
       "\n",
       "       number_of_reviews_ltm  \n",
       "11103                      0  "
      ]
     },
     "execution_count": 212,
     "metadata": {},
     "output_type": "execute_result"
    }
   ],
   "source": [
    "df[df['price']==df['price'].min()]"
   ]
  },
  {
   "cell_type": "code",
   "execution_count": 213,
   "metadata": {},
   "outputs": [],
   "source": [
    "# Deleting row that the price is zero \n",
    "\n",
    "df.drop(index=11103,inplace= True)"
   ]
  },
  {
   "cell_type": "markdown",
   "metadata": {},
   "source": [
    "### **1.1 Checking duplicates**\n",
    "\n",
    "There is no duplicate data entry."
   ]
  },
  {
   "cell_type": "code",
   "execution_count": 214,
   "metadata": {},
   "outputs": [
    {
     "data": {
      "text/plain": [
       "np.int64(0)"
      ]
     },
     "execution_count": 214,
     "metadata": {},
     "output_type": "execute_result"
    }
   ],
   "source": [
    "df.duplicated().sum()"
   ]
  },
  {
   "cell_type": "markdown",
   "metadata": {},
   "source": [
    "### **1.2 Missing Values**\n",
    "\n",
    "After checking the information, I found that the dataset consists of 16 columns with 15,854 entries. However, I identified anomalies in the variables host_name (15853 entries), last_review (10,064 entries), and reviews_per_month (10,064 entries). This indicates that these columns have missing values. We can check them again using below function."
   ]
  },
  {
   "cell_type": "code",
   "execution_count": 215,
   "metadata": {},
   "outputs": [
    {
     "data": {
      "text/plain": [
       "id                                   0\n",
       "name                                 8\n",
       "host_id                              0\n",
       "host_name                            1\n",
       "neighbourhood                        0\n",
       "latitude                             0\n",
       "longitude                            0\n",
       "room_type                            0\n",
       "price                                0\n",
       "minimum_nights                       0\n",
       "number_of_reviews                    0\n",
       "last_review                       5789\n",
       "reviews_per_month                 5789\n",
       "calculated_host_listings_count       0\n",
       "availability_365                     0\n",
       "number_of_reviews_ltm                0\n",
       "dtype: int64"
      ]
     },
     "execution_count": 215,
     "metadata": {},
     "output_type": "execute_result"
    }
   ],
   "source": [
    "df.isna().sum()"
   ]
  },
  {
   "cell_type": "markdown",
   "metadata": {},
   "source": [
    "After this inspection, I made sure that variable `host_name` has one missing value, and `last_review` and `reviews_per_month` have 5790 missing values. For variable `host_name`, this missing value do not influece the whole dataset as it only one missing values. However, for `last_review` and `reviews_per_month`, as their missing values are 37 percent of the dataset. "
   ]
  },
  {
   "cell_type": "code",
   "execution_count": 216,
   "metadata": {},
   "outputs": [
    {
     "data": {
      "text/html": [
       "<div>\n",
       "<style scoped>\n",
       "    .dataframe tbody tr th:only-of-type {\n",
       "        vertical-align: middle;\n",
       "    }\n",
       "\n",
       "    .dataframe tbody tr th {\n",
       "        vertical-align: top;\n",
       "    }\n",
       "\n",
       "    .dataframe thead th {\n",
       "        text-align: right;\n",
       "    }\n",
       "</style>\n",
       "<table border=\"1\" class=\"dataframe\">\n",
       "  <thead>\n",
       "    <tr style=\"text-align: right;\">\n",
       "      <th></th>\n",
       "      <th>jumlah</th>\n",
       "      <th>percentage</th>\n",
       "    </tr>\n",
       "  </thead>\n",
       "  <tbody>\n",
       "    <tr>\n",
       "      <th>id</th>\n",
       "      <td>0</td>\n",
       "      <td>0.0</td>\n",
       "    </tr>\n",
       "    <tr>\n",
       "      <th>name</th>\n",
       "      <td>8</td>\n",
       "      <td>0.0</td>\n",
       "    </tr>\n",
       "    <tr>\n",
       "      <th>host_id</th>\n",
       "      <td>0</td>\n",
       "      <td>0.0</td>\n",
       "    </tr>\n",
       "    <tr>\n",
       "      <th>host_name</th>\n",
       "      <td>1</td>\n",
       "      <td>0.0</td>\n",
       "    </tr>\n",
       "    <tr>\n",
       "      <th>neighbourhood</th>\n",
       "      <td>0</td>\n",
       "      <td>0.0</td>\n",
       "    </tr>\n",
       "    <tr>\n",
       "      <th>latitude</th>\n",
       "      <td>0</td>\n",
       "      <td>0.0</td>\n",
       "    </tr>\n",
       "    <tr>\n",
       "      <th>longitude</th>\n",
       "      <td>0</td>\n",
       "      <td>0.0</td>\n",
       "    </tr>\n",
       "    <tr>\n",
       "      <th>room_type</th>\n",
       "      <td>0</td>\n",
       "      <td>0.0</td>\n",
       "    </tr>\n",
       "    <tr>\n",
       "      <th>price</th>\n",
       "      <td>0</td>\n",
       "      <td>0.0</td>\n",
       "    </tr>\n",
       "    <tr>\n",
       "      <th>minimum_nights</th>\n",
       "      <td>0</td>\n",
       "      <td>0.0</td>\n",
       "    </tr>\n",
       "    <tr>\n",
       "      <th>number_of_reviews</th>\n",
       "      <td>0</td>\n",
       "      <td>0.0</td>\n",
       "    </tr>\n",
       "    <tr>\n",
       "      <th>last_review</th>\n",
       "      <td>5789</td>\n",
       "      <td>37.0</td>\n",
       "    </tr>\n",
       "    <tr>\n",
       "      <th>reviews_per_month</th>\n",
       "      <td>5789</td>\n",
       "      <td>37.0</td>\n",
       "    </tr>\n",
       "    <tr>\n",
       "      <th>calculated_host_listings_count</th>\n",
       "      <td>0</td>\n",
       "      <td>0.0</td>\n",
       "    </tr>\n",
       "    <tr>\n",
       "      <th>availability_365</th>\n",
       "      <td>0</td>\n",
       "      <td>0.0</td>\n",
       "    </tr>\n",
       "    <tr>\n",
       "      <th>number_of_reviews_ltm</th>\n",
       "      <td>0</td>\n",
       "      <td>0.0</td>\n",
       "    </tr>\n",
       "  </tbody>\n",
       "</table>\n",
       "</div>"
      ],
      "text/plain": [
       "                                jumlah  percentage\n",
       "id                                   0         0.0\n",
       "name                                 8         0.0\n",
       "host_id                              0         0.0\n",
       "host_name                            1         0.0\n",
       "neighbourhood                        0         0.0\n",
       "latitude                             0         0.0\n",
       "longitude                            0         0.0\n",
       "room_type                            0         0.0\n",
       "price                                0         0.0\n",
       "minimum_nights                       0         0.0\n",
       "number_of_reviews                    0         0.0\n",
       "last_review                       5789        37.0\n",
       "reviews_per_month                 5789        37.0\n",
       "calculated_host_listings_count       0         0.0\n",
       "availability_365                     0         0.0\n",
       "number_of_reviews_ltm                0         0.0"
      ]
     },
     "execution_count": 216,
     "metadata": {},
     "output_type": "execute_result"
    }
   ],
   "source": [
    "missing = df.isna().sum().rename('jumlah')\n",
    "missing = pd.DataFrame(missing)\n",
    "missing['percentage'] = round((df.isna().sum() / len(df) * 100).rename('percentage'))\n",
    "missing"
   ]
  },
  {
   "cell_type": "markdown",
   "metadata": {},
   "source": [
    "\n",
    "From the results above, there are 4 columns with missing values:\n",
    "1. Name (8)\n",
    "2. Host_name (1)\n",
    "3. Last_review  (5790) -- 37 percent of the entire data\n",
    "4. Reviews_per_month (5790) -- 37 percent of the entire data\n",
    "\n",
    "I started by looking at which columns had missing values. Most of them did not offer much to go on, so it was hard to figure out how to fill in the missing values. But then I checked a listing with a missing name that caught my attention—it belonged to a host named Pakaphol.\n",
    "\n",
    "When I checked the `calculated_host_listings_count`, I noticed that Pakaphol had multiple listings in different areas. Digging a bit deeper, I found another listing under the same `host name`, and both had the same title: \"Errday Guest House\".\n",
    "\n",
    "So, it made sense to fill in the missing `name` for Pakaphol’s listing with \"Errday Guest House\", since it clearly matched the pattern and connected back to the host."
   ]
  },
  {
   "cell_type": "code",
   "execution_count": 217,
   "metadata": {},
   "outputs": [
    {
     "data": {
      "text/html": [
       "<div>\n",
       "<style scoped>\n",
       "    .dataframe tbody tr th:only-of-type {\n",
       "        vertical-align: middle;\n",
       "    }\n",
       "\n",
       "    .dataframe tbody tr th {\n",
       "        vertical-align: top;\n",
       "    }\n",
       "\n",
       "    .dataframe thead th {\n",
       "        text-align: right;\n",
       "    }\n",
       "</style>\n",
       "<table border=\"1\" class=\"dataframe\">\n",
       "  <thead>\n",
       "    <tr style=\"text-align: right;\">\n",
       "      <th></th>\n",
       "      <th>id</th>\n",
       "      <th>name</th>\n",
       "      <th>host_id</th>\n",
       "      <th>host_name</th>\n",
       "      <th>neighbourhood</th>\n",
       "      <th>latitude</th>\n",
       "      <th>longitude</th>\n",
       "      <th>room_type</th>\n",
       "      <th>price</th>\n",
       "      <th>minimum_nights</th>\n",
       "      <th>number_of_reviews</th>\n",
       "      <th>last_review</th>\n",
       "      <th>reviews_per_month</th>\n",
       "      <th>calculated_host_listings_count</th>\n",
       "      <th>availability_365</th>\n",
       "      <th>number_of_reviews_ltm</th>\n",
       "    </tr>\n",
       "  </thead>\n",
       "  <tbody>\n",
       "    <tr>\n",
       "      <th>1981</th>\n",
       "      <td>13400326</td>\n",
       "      <td>Errday Guest House</td>\n",
       "      <td>73275200</td>\n",
       "      <td>Pakaphol</td>\n",
       "      <td>Khlong Toei</td>\n",
       "      <td>13.72427</td>\n",
       "      <td>100.56443</td>\n",
       "      <td>Private room</td>\n",
       "      <td>950</td>\n",
       "      <td>1</td>\n",
       "      <td>1</td>\n",
       "      <td>2020-02-19</td>\n",
       "      <td>0.03</td>\n",
       "      <td>3</td>\n",
       "      <td>1</td>\n",
       "      <td>0</td>\n",
       "    </tr>\n",
       "    <tr>\n",
       "      <th>1982</th>\n",
       "      <td>13400758</td>\n",
       "      <td>Errday Guest House</td>\n",
       "      <td>73275200</td>\n",
       "      <td>Pakaphol</td>\n",
       "      <td>Khlong Toei</td>\n",
       "      <td>13.72373</td>\n",
       "      <td>100.56415</td>\n",
       "      <td>Private room</td>\n",
       "      <td>36363</td>\n",
       "      <td>1</td>\n",
       "      <td>0</td>\n",
       "      <td>NaT</td>\n",
       "      <td>NaN</td>\n",
       "      <td>3</td>\n",
       "      <td>1</td>\n",
       "      <td>0</td>\n",
       "    </tr>\n",
       "    <tr>\n",
       "      <th>2075</th>\n",
       "      <td>13142743</td>\n",
       "      <td>NaN</td>\n",
       "      <td>73275200</td>\n",
       "      <td>Pakaphol</td>\n",
       "      <td>Khlong Toei</td>\n",
       "      <td>13.72566</td>\n",
       "      <td>100.56416</td>\n",
       "      <td>Private room</td>\n",
       "      <td>850</td>\n",
       "      <td>1</td>\n",
       "      <td>2</td>\n",
       "      <td>2017-12-11</td>\n",
       "      <td>0.03</td>\n",
       "      <td>3</td>\n",
       "      <td>220</td>\n",
       "      <td>0</td>\n",
       "    </tr>\n",
       "  </tbody>\n",
       "</table>\n",
       "</div>"
      ],
      "text/plain": [
       "            id                name   host_id host_name neighbourhood  \\\n",
       "1981  13400326  Errday Guest House  73275200  Pakaphol   Khlong Toei   \n",
       "1982  13400758  Errday Guest House  73275200  Pakaphol   Khlong Toei   \n",
       "2075  13142743                 NaN  73275200  Pakaphol   Khlong Toei   \n",
       "\n",
       "      latitude  longitude     room_type  price  minimum_nights  \\\n",
       "1981  13.72427  100.56443  Private room    950               1   \n",
       "1982  13.72373  100.56415  Private room  36363               1   \n",
       "2075  13.72566  100.56416  Private room    850               1   \n",
       "\n",
       "      number_of_reviews last_review  reviews_per_month  \\\n",
       "1981                  1  2020-02-19               0.03   \n",
       "1982                  0         NaT                NaN   \n",
       "2075                  2  2017-12-11               0.03   \n",
       "\n",
       "      calculated_host_listings_count  availability_365  number_of_reviews_ltm  \n",
       "1981                               3                 1                      0  \n",
       "1982                               3                 1                      0  \n",
       "2075                               3               220                      0  "
      ]
     },
     "execution_count": 217,
     "metadata": {},
     "output_type": "execute_result"
    }
   ],
   "source": [
    "df[df['host_name']=='Pakaphol']"
   ]
  },
  {
   "cell_type": "code",
   "execution_count": 218,
   "metadata": {},
   "outputs": [
    {
     "data": {
      "text/plain": [
       "'Errday Guest House'"
      ]
     },
     "execution_count": 218,
     "metadata": {},
     "output_type": "execute_result"
    }
   ],
   "source": [
    "df.loc[2075,'name'] = 'Errday Guest House'\n",
    "df.loc[2075,'name']"
   ]
  },
  {
   "cell_type": "markdown",
   "metadata": {},
   "source": [
    "For the other data, I filled in the missing values as mentioned below. "
   ]
  },
  {
   "cell_type": "code",
   "execution_count": 219,
   "metadata": {},
   "outputs": [],
   "source": [
    "df.fillna({'name':'Unknown'},inplace=True)\n",
    "df.fillna({'host_name':'Unknown'},inplace=True)\n",
    "df.fillna({'reviews_per_month':0},inplace=True)"
   ]
  },
  {
   "cell_type": "markdown",
   "metadata": {},
   "source": [
    "The reason I filled `name` and `host_name` with 'Unknown' is because, after checking for duplicates, I found none. This indicates that the null values in these columns still represent unique listings, rather than repeated or erroneous entries.\n",
    "\n",
    "For the `reviews_per_month` column, I filled missing values with 0 to reflect that these listings have not received any reviews. I also observed that the missing values in `reviews_per_month` align with missing values in the `last_review` column, which further supports the assumption that these listings are yet to receive any reviews."
   ]
  },
  {
   "cell_type": "code",
   "execution_count": 220,
   "metadata": {},
   "outputs": [
    {
     "data": {
      "text/plain": [
       "id                                   0\n",
       "name                                 0\n",
       "host_id                              0\n",
       "host_name                            0\n",
       "neighbourhood                        0\n",
       "latitude                             0\n",
       "longitude                            0\n",
       "room_type                            0\n",
       "price                                0\n",
       "minimum_nights                       0\n",
       "number_of_reviews                    0\n",
       "last_review                       5789\n",
       "reviews_per_month                    0\n",
       "calculated_host_listings_count       0\n",
       "availability_365                     0\n",
       "number_of_reviews_ltm                0\n",
       "dtype: int64"
      ]
     },
     "execution_count": 220,
     "metadata": {},
     "output_type": "execute_result"
    }
   ],
   "source": [
    "df.isna().sum()"
   ]
  },
  {
   "cell_type": "markdown",
   "metadata": {},
   "source": [
    "To address the missing values in the `last_review` column, I analyzed the data and observed that some entries had a `calculated_host_listings_count` greater than 1, suggesting that certain hosts manage multiple listings. Based on the idea that each listing might reflect on the host as a whole, I chose to group the data to see if those hosts had other active listings beyond the one with missing data."
   ]
  },
  {
   "cell_type": "code",
   "execution_count": 221,
   "metadata": {},
   "outputs": [
    {
     "data": {
      "text/html": [
       "<div>\n",
       "<style scoped>\n",
       "    .dataframe tbody tr th:only-of-type {\n",
       "        vertical-align: middle;\n",
       "    }\n",
       "\n",
       "    .dataframe tbody tr th {\n",
       "        vertical-align: top;\n",
       "    }\n",
       "\n",
       "    .dataframe thead th {\n",
       "        text-align: right;\n",
       "    }\n",
       "</style>\n",
       "<table border=\"1\" class=\"dataframe\">\n",
       "  <thead>\n",
       "    <tr style=\"text-align: right;\">\n",
       "      <th></th>\n",
       "      <th>host_name</th>\n",
       "      <th>last_review</th>\n",
       "    </tr>\n",
       "  </thead>\n",
       "  <tbody>\n",
       "    <tr>\n",
       "      <th>0</th>\n",
       "      <td>Nuttee</td>\n",
       "      <td>2020-01-03</td>\n",
       "    </tr>\n",
       "    <tr>\n",
       "      <th>1</th>\n",
       "      <td>Sirilak</td>\n",
       "      <td>2019-02-02</td>\n",
       "    </tr>\n",
       "    <tr>\n",
       "      <th>2</th>\n",
       "      <td>Wimonpak</td>\n",
       "      <td>2019-05-09</td>\n",
       "    </tr>\n",
       "    <tr>\n",
       "      <th>3</th>\n",
       "      <td>Athitaya</td>\n",
       "      <td>2014-02-03</td>\n",
       "    </tr>\n",
       "    <tr>\n",
       "      <th>4</th>\n",
       "      <td>Nol</td>\n",
       "      <td>2016-03-29</td>\n",
       "    </tr>\n",
       "    <tr>\n",
       "      <th>...</th>\n",
       "      <td>...</td>\n",
       "      <td>...</td>\n",
       "    </tr>\n",
       "    <tr>\n",
       "      <th>3258</th>\n",
       "      <td>Patch</td>\n",
       "      <td>2022-12-20</td>\n",
       "    </tr>\n",
       "    <tr>\n",
       "      <th>3259</th>\n",
       "      <td>Suyada</td>\n",
       "      <td>2022-12-18</td>\n",
       "    </tr>\n",
       "    <tr>\n",
       "      <th>3260</th>\n",
       "      <td>Non</td>\n",
       "      <td>2022-12-23</td>\n",
       "    </tr>\n",
       "    <tr>\n",
       "      <th>3261</th>\n",
       "      <td>Lucky</td>\n",
       "      <td>2022-12-23</td>\n",
       "    </tr>\n",
       "    <tr>\n",
       "      <th>3262</th>\n",
       "      <td>Phatchara</td>\n",
       "      <td>2022-12-26</td>\n",
       "    </tr>\n",
       "  </tbody>\n",
       "</table>\n",
       "<p>3263 rows × 2 columns</p>\n",
       "</div>"
      ],
      "text/plain": [
       "      host_name last_review\n",
       "0        Nuttee  2020-01-03\n",
       "1       Sirilak  2019-02-02\n",
       "2      Wimonpak  2019-05-09\n",
       "3      Athitaya  2014-02-03\n",
       "4           Nol  2016-03-29\n",
       "...         ...         ...\n",
       "3258      Patch  2022-12-20\n",
       "3259     Suyada  2022-12-18\n",
       "3260        Non  2022-12-23\n",
       "3261      Lucky  2022-12-23\n",
       "3262  Phatchara  2022-12-26\n",
       "\n",
       "[3263 rows x 2 columns]"
      ]
     },
     "execution_count": 221,
     "metadata": {},
     "output_type": "execute_result"
    }
   ],
   "source": [
    "host_last_review = {}\n",
    "\n",
    "for index, row in df.iterrows():\n",
    "    if not pd.isnull(row['last_review']):\n",
    "        host_last_review[row['host_name']] = row['last_review']\n",
    "    \n",
    "host_last_review\n",
    "\n",
    "df_host_last_review = pd.DataFrame(list(host_last_review.items()), columns=['host_name', 'last_review'])\n",
    "\n",
    "df_host_last_review"
   ]
  },
  {
   "cell_type": "markdown",
   "metadata": {},
   "source": [
    "After that, I grouped the data by host and selected the maximum value to obtain the most recent review for each host."
   ]
  },
  {
   "cell_type": "code",
   "execution_count": 222,
   "metadata": {},
   "outputs": [
    {
     "data": {
      "text/html": [
       "<div>\n",
       "<style scoped>\n",
       "    .dataframe tbody tr th:only-of-type {\n",
       "        vertical-align: middle;\n",
       "    }\n",
       "\n",
       "    .dataframe tbody tr th {\n",
       "        vertical-align: top;\n",
       "    }\n",
       "\n",
       "    .dataframe thead th {\n",
       "        text-align: right;\n",
       "    }\n",
       "</style>\n",
       "<table border=\"1\" class=\"dataframe\">\n",
       "  <thead>\n",
       "    <tr style=\"text-align: right;\">\n",
       "      <th></th>\n",
       "      <th>last_review</th>\n",
       "    </tr>\n",
       "    <tr>\n",
       "      <th>host_name</th>\n",
       "      <th></th>\n",
       "    </tr>\n",
       "  </thead>\n",
       "  <tbody>\n",
       "    <tr>\n",
       "      <th>.● Bm</th>\n",
       "      <td>2022-12-11</td>\n",
       "    </tr>\n",
       "    <tr>\n",
       "      <th>1905 Heritage Corner</th>\n",
       "      <td>2019-04-14</td>\n",
       "    </tr>\n",
       "    <tr>\n",
       "      <th>1989 Ratchada</th>\n",
       "      <td>2020-01-31</td>\n",
       "    </tr>\n",
       "    <tr>\n",
       "      <th>A</th>\n",
       "      <td>2022-12-20</td>\n",
       "    </tr>\n",
       "    <tr>\n",
       "      <th>A Hui 辉泰郎 ปริพล</th>\n",
       "      <td>2020-02-21</td>\n",
       "    </tr>\n",
       "    <tr>\n",
       "      <th>...</th>\n",
       "      <td>...</td>\n",
       "    </tr>\n",
       "    <tr>\n",
       "      <th>雷</th>\n",
       "      <td>2022-11-11</td>\n",
       "    </tr>\n",
       "    <tr>\n",
       "      <th>주은</th>\n",
       "      <td>2022-12-26</td>\n",
       "    </tr>\n",
       "    <tr>\n",
       "      <th>형근</th>\n",
       "      <td>2022-11-08</td>\n",
       "    </tr>\n",
       "    <tr>\n",
       "      <th>ｼﾞｬｯｷｰ</th>\n",
       "      <td>2020-02-17</td>\n",
       "    </tr>\n",
       "    <tr>\n",
       "      <th>ﾀｯ</th>\n",
       "      <td>2022-12-18</td>\n",
       "    </tr>\n",
       "  </tbody>\n",
       "</table>\n",
       "<p>3263 rows × 1 columns</p>\n",
       "</div>"
      ],
      "text/plain": [
       "                     last_review\n",
       "host_name                       \n",
       ".● Bm                 2022-12-11\n",
       "1905 Heritage Corner  2019-04-14\n",
       "1989 Ratchada         2020-01-31\n",
       "A                     2022-12-20\n",
       "A Hui 辉泰郎 ปริพล       2020-02-21\n",
       "...                          ...\n",
       "雷                     2022-11-11\n",
       "주은                    2022-12-26\n",
       "형근                    2022-11-08\n",
       "ｼﾞｬｯｷｰ                2020-02-17\n",
       "ﾀｯ                    2022-12-18\n",
       "\n",
       "[3263 rows x 1 columns]"
      ]
     },
     "execution_count": 222,
     "metadata": {},
     "output_type": "execute_result"
    }
   ],
   "source": [
    "df_host_last_review.groupby('host_name')[['last_review']].max()"
   ]
  },
  {
   "cell_type": "markdown",
   "metadata": {},
   "source": [
    "Next, I checked whether the entries with missing values shared the same `host_name` as those with valid `last_review` dates. If a match was found, I used the corresponding value from `df_host_last_review` to fill in the gap. As a result of this step, the number of missing entries in the last_review column dropped to 2,681."
   ]
  },
  {
   "cell_type": "code",
   "execution_count": 223,
   "metadata": {},
   "outputs": [
    {
     "data": {
      "text/plain": [
       "id                                   0\n",
       "name                                 0\n",
       "host_id                              0\n",
       "host_name                            0\n",
       "neighbourhood                        0\n",
       "latitude                             0\n",
       "longitude                            0\n",
       "room_type                            0\n",
       "price                                0\n",
       "minimum_nights                       0\n",
       "number_of_reviews                    0\n",
       "last_review                       2681\n",
       "reviews_per_month                    0\n",
       "calculated_host_listings_count       0\n",
       "availability_365                     0\n",
       "number_of_reviews_ltm                0\n",
       "dtype: int64"
      ]
     },
     "execution_count": 223,
     "metadata": {},
     "output_type": "execute_result"
    }
   ],
   "source": [
    "for index, row in df[df['last_review'].isna()].iterrows():\n",
    "    if row['host_name'] in df_host_last_review['host_name'].values:\n",
    "        host_last_review = df_host_last_review[df_host_last_review['host_name'] == row['host_name']]\n",
    "        df.at[index, 'last_review'] = host_last_review['last_review'].values[0]\n",
    "\n",
    "df.isna().sum()"
   ]
  },
  {
   "cell_type": "code",
   "execution_count": 224,
   "metadata": {},
   "outputs": [
    {
     "data": {
      "text/html": [
       "<div>\n",
       "<style scoped>\n",
       "    .dataframe tbody tr th:only-of-type {\n",
       "        vertical-align: middle;\n",
       "    }\n",
       "\n",
       "    .dataframe tbody tr th {\n",
       "        vertical-align: top;\n",
       "    }\n",
       "\n",
       "    .dataframe thead th {\n",
       "        text-align: right;\n",
       "    }\n",
       "</style>\n",
       "<table border=\"1\" class=\"dataframe\">\n",
       "  <thead>\n",
       "    <tr style=\"text-align: right;\">\n",
       "      <th></th>\n",
       "      <th>id</th>\n",
       "      <th>host_id</th>\n",
       "      <th>latitude</th>\n",
       "      <th>longitude</th>\n",
       "      <th>price</th>\n",
       "      <th>minimum_nights</th>\n",
       "      <th>number_of_reviews</th>\n",
       "      <th>last_review</th>\n",
       "      <th>reviews_per_month</th>\n",
       "      <th>calculated_host_listings_count</th>\n",
       "      <th>availability_365</th>\n",
       "      <th>number_of_reviews_ltm</th>\n",
       "    </tr>\n",
       "  </thead>\n",
       "  <tbody>\n",
       "    <tr>\n",
       "      <th>count</th>\n",
       "      <td>1.585300e+04</td>\n",
       "      <td>1.585300e+04</td>\n",
       "      <td>15853.000000</td>\n",
       "      <td>15853.000000</td>\n",
       "      <td>1.585300e+04</td>\n",
       "      <td>15853.000000</td>\n",
       "      <td>15853.000000</td>\n",
       "      <td>13172</td>\n",
       "      <td>15853.000000</td>\n",
       "      <td>15853.000000</td>\n",
       "      <td>15853.000000</td>\n",
       "      <td>15853.000000</td>\n",
       "    </tr>\n",
       "    <tr>\n",
       "      <th>mean</th>\n",
       "      <td>1.579496e+17</td>\n",
       "      <td>1.540928e+08</td>\n",
       "      <td>13.745144</td>\n",
       "      <td>100.559903</td>\n",
       "      <td>3.217907e+03</td>\n",
       "      <td>15.293257</td>\n",
       "      <td>16.655207</td>\n",
       "      <td>2021-09-02 03:11:12.335256832</td>\n",
       "      <td>0.516211</td>\n",
       "      <td>13.890431</td>\n",
       "      <td>244.394058</td>\n",
       "      <td>3.481738</td>\n",
       "    </tr>\n",
       "    <tr>\n",
       "      <th>min</th>\n",
       "      <td>2.793400e+04</td>\n",
       "      <td>5.892000e+04</td>\n",
       "      <td>13.527300</td>\n",
       "      <td>100.329550</td>\n",
       "      <td>2.780000e+02</td>\n",
       "      <td>1.000000</td>\n",
       "      <td>0.000000</td>\n",
       "      <td>2012-12-15 00:00:00</td>\n",
       "      <td>0.000000</td>\n",
       "      <td>1.000000</td>\n",
       "      <td>0.000000</td>\n",
       "      <td>0.000000</td>\n",
       "    </tr>\n",
       "    <tr>\n",
       "      <th>25%</th>\n",
       "      <td>2.104509e+07</td>\n",
       "      <td>3.974431e+07</td>\n",
       "      <td>13.720090</td>\n",
       "      <td>100.529690</td>\n",
       "      <td>9.000000e+02</td>\n",
       "      <td>1.000000</td>\n",
       "      <td>0.000000</td>\n",
       "      <td>2020-02-15 18:00:00</td>\n",
       "      <td>0.000000</td>\n",
       "      <td>1.000000</td>\n",
       "      <td>138.000000</td>\n",
       "      <td>0.000000</td>\n",
       "    </tr>\n",
       "    <tr>\n",
       "      <th>50%</th>\n",
       "      <td>3.503224e+07</td>\n",
       "      <td>1.224556e+08</td>\n",
       "      <td>13.738490</td>\n",
       "      <td>100.561410</td>\n",
       "      <td>1.429000e+03</td>\n",
       "      <td>1.000000</td>\n",
       "      <td>2.000000</td>\n",
       "      <td>2022-10-21 00:00:00</td>\n",
       "      <td>0.090000</td>\n",
       "      <td>4.000000</td>\n",
       "      <td>309.000000</td>\n",
       "      <td>0.000000</td>\n",
       "    </tr>\n",
       "    <tr>\n",
       "      <th>75%</th>\n",
       "      <td>5.256284e+07</td>\n",
       "      <td>2.390274e+08</td>\n",
       "      <td>13.759500</td>\n",
       "      <td>100.585150</td>\n",
       "      <td>2.429000e+03</td>\n",
       "      <td>7.000000</td>\n",
       "      <td>13.000000</td>\n",
       "      <td>2022-12-08 00:00:00</td>\n",
       "      <td>0.670000</td>\n",
       "      <td>13.000000</td>\n",
       "      <td>360.000000</td>\n",
       "      <td>3.000000</td>\n",
       "    </tr>\n",
       "    <tr>\n",
       "      <th>max</th>\n",
       "      <td>7.908162e+17</td>\n",
       "      <td>4.926659e+08</td>\n",
       "      <td>13.953540</td>\n",
       "      <td>100.923440</td>\n",
       "      <td>1.100000e+06</td>\n",
       "      <td>1125.000000</td>\n",
       "      <td>1224.000000</td>\n",
       "      <td>2022-12-28 00:00:00</td>\n",
       "      <td>19.130000</td>\n",
       "      <td>228.000000</td>\n",
       "      <td>365.000000</td>\n",
       "      <td>325.000000</td>\n",
       "    </tr>\n",
       "    <tr>\n",
       "      <th>std</th>\n",
       "      <td>2.946082e+17</td>\n",
       "      <td>1.318666e+08</td>\n",
       "      <td>0.043041</td>\n",
       "      <td>0.050912</td>\n",
       "      <td>2.497290e+04</td>\n",
       "      <td>50.816496</td>\n",
       "      <td>40.614397</td>\n",
       "      <td>NaN</td>\n",
       "      <td>0.952774</td>\n",
       "      <td>30.270630</td>\n",
       "      <td>125.832224</td>\n",
       "      <td>8.917176</td>\n",
       "    </tr>\n",
       "  </tbody>\n",
       "</table>\n",
       "</div>"
      ],
      "text/plain": [
       "                 id       host_id      latitude     longitude         price  \\\n",
       "count  1.585300e+04  1.585300e+04  15853.000000  15853.000000  1.585300e+04   \n",
       "mean   1.579496e+17  1.540928e+08     13.745144    100.559903  3.217907e+03   \n",
       "min    2.793400e+04  5.892000e+04     13.527300    100.329550  2.780000e+02   \n",
       "25%    2.104509e+07  3.974431e+07     13.720090    100.529690  9.000000e+02   \n",
       "50%    3.503224e+07  1.224556e+08     13.738490    100.561410  1.429000e+03   \n",
       "75%    5.256284e+07  2.390274e+08     13.759500    100.585150  2.429000e+03   \n",
       "max    7.908162e+17  4.926659e+08     13.953540    100.923440  1.100000e+06   \n",
       "std    2.946082e+17  1.318666e+08      0.043041      0.050912  2.497290e+04   \n",
       "\n",
       "       minimum_nights  number_of_reviews                    last_review  \\\n",
       "count    15853.000000       15853.000000                          13172   \n",
       "mean        15.293257          16.655207  2021-09-02 03:11:12.335256832   \n",
       "min          1.000000           0.000000            2012-12-15 00:00:00   \n",
       "25%          1.000000           0.000000            2020-02-15 18:00:00   \n",
       "50%          1.000000           2.000000            2022-10-21 00:00:00   \n",
       "75%          7.000000          13.000000            2022-12-08 00:00:00   \n",
       "max       1125.000000        1224.000000            2022-12-28 00:00:00   \n",
       "std         50.816496          40.614397                            NaN   \n",
       "\n",
       "       reviews_per_month  calculated_host_listings_count  availability_365  \\\n",
       "count       15853.000000                    15853.000000      15853.000000   \n",
       "mean            0.516211                       13.890431        244.394058   \n",
       "min             0.000000                        1.000000          0.000000   \n",
       "25%             0.000000                        1.000000        138.000000   \n",
       "50%             0.090000                        4.000000        309.000000   \n",
       "75%             0.670000                       13.000000        360.000000   \n",
       "max            19.130000                      228.000000        365.000000   \n",
       "std             0.952774                       30.270630        125.832224   \n",
       "\n",
       "       number_of_reviews_ltm  \n",
       "count           15853.000000  \n",
       "mean                3.481738  \n",
       "min                 0.000000  \n",
       "25%                 0.000000  \n",
       "50%                 0.000000  \n",
       "75%                 3.000000  \n",
       "max               325.000000  \n",
       "std                 8.917176  "
      ]
     },
     "execution_count": 224,
     "metadata": {},
     "output_type": "execute_result"
    }
   ],
   "source": [
    "# Next, for the rest of missing values, i decided to use median value. But, first, I need to check what is the median value of the data.\n",
    "\n",
    "df.describe()"
   ]
  },
  {
   "cell_type": "code",
   "execution_count": 225,
   "metadata": {},
   "outputs": [],
   "source": [
    "#Fill missing values in 'last_review' with the specified datetime value\n",
    "\n",
    "df.loc[(df['last_review'].isna()), 'last_review'] = '2022-10-21'"
   ]
  },
  {
   "cell_type": "code",
   "execution_count": 226,
   "metadata": {},
   "outputs": [
    {
     "data": {
      "text/plain": [
       "id                                0\n",
       "name                              0\n",
       "host_id                           0\n",
       "host_name                         0\n",
       "neighbourhood                     0\n",
       "latitude                          0\n",
       "longitude                         0\n",
       "room_type                         0\n",
       "price                             0\n",
       "minimum_nights                    0\n",
       "number_of_reviews                 0\n",
       "last_review                       0\n",
       "reviews_per_month                 0\n",
       "calculated_host_listings_count    0\n",
       "availability_365                  0\n",
       "number_of_reviews_ltm             0\n",
       "dtype: int64"
      ]
     },
     "execution_count": 226,
     "metadata": {},
     "output_type": "execute_result"
    }
   ],
   "source": [
    "df.isna().sum()"
   ]
  },
  {
   "cell_type": "code",
   "execution_count": 227,
   "metadata": {},
   "outputs": [
    {
     "data": {
      "text/plain": [
       "(15853, 16)"
      ]
     },
     "execution_count": 227,
     "metadata": {},
     "output_type": "execute_result"
    }
   ],
   "source": [
    "df.shape"
   ]
  },
  {
   "cell_type": "markdown",
   "metadata": {},
   "source": [
    "### **1.2 Distribution Test: Defining & Handling Outlier**\n"
   ]
  },
  {
   "cell_type": "code",
   "execution_count": 228,
   "metadata": {},
   "outputs": [
    {
     "data": {
      "text/html": [
       "<div>\n",
       "<style scoped>\n",
       "    .dataframe tbody tr th:only-of-type {\n",
       "        vertical-align: middle;\n",
       "    }\n",
       "\n",
       "    .dataframe tbody tr th {\n",
       "        vertical-align: top;\n",
       "    }\n",
       "\n",
       "    .dataframe thead th {\n",
       "        text-align: right;\n",
       "    }\n",
       "</style>\n",
       "<table border=\"1\" class=\"dataframe\">\n",
       "  <thead>\n",
       "    <tr style=\"text-align: right;\">\n",
       "      <th></th>\n",
       "      <th>id</th>\n",
       "      <th>host_id</th>\n",
       "      <th>latitude</th>\n",
       "      <th>longitude</th>\n",
       "      <th>price</th>\n",
       "      <th>minimum_nights</th>\n",
       "      <th>number_of_reviews</th>\n",
       "      <th>last_review</th>\n",
       "      <th>reviews_per_month</th>\n",
       "      <th>calculated_host_listings_count</th>\n",
       "      <th>availability_365</th>\n",
       "      <th>number_of_reviews_ltm</th>\n",
       "    </tr>\n",
       "  </thead>\n",
       "  <tbody>\n",
       "    <tr>\n",
       "      <th>count</th>\n",
       "      <td>1.585300e+04</td>\n",
       "      <td>15853.0</td>\n",
       "      <td>15853.0</td>\n",
       "      <td>15853.0</td>\n",
       "      <td>15853.0</td>\n",
       "      <td>15853.0</td>\n",
       "      <td>15853.0</td>\n",
       "      <td>15853</td>\n",
       "      <td>15853.0</td>\n",
       "      <td>15853.0</td>\n",
       "      <td>15853.0</td>\n",
       "      <td>15853.0</td>\n",
       "    </tr>\n",
       "    <tr>\n",
       "      <th>mean</th>\n",
       "      <td>1.579496e+17</td>\n",
       "      <td>154092757.0</td>\n",
       "      <td>14.0</td>\n",
       "      <td>101.0</td>\n",
       "      <td>3218.0</td>\n",
       "      <td>15.0</td>\n",
       "      <td>17.0</td>\n",
       "      <td>2021-11-11 02:59:12.993124352</td>\n",
       "      <td>1.0</td>\n",
       "      <td>14.0</td>\n",
       "      <td>244.0</td>\n",
       "      <td>3.0</td>\n",
       "    </tr>\n",
       "    <tr>\n",
       "      <th>min</th>\n",
       "      <td>2.793400e+04</td>\n",
       "      <td>58920.0</td>\n",
       "      <td>14.0</td>\n",
       "      <td>100.0</td>\n",
       "      <td>278.0</td>\n",
       "      <td>1.0</td>\n",
       "      <td>0.0</td>\n",
       "      <td>2012-12-15 00:00:00</td>\n",
       "      <td>0.0</td>\n",
       "      <td>1.0</td>\n",
       "      <td>0.0</td>\n",
       "      <td>0.0</td>\n",
       "    </tr>\n",
       "    <tr>\n",
       "      <th>25%</th>\n",
       "      <td>2.104509e+07</td>\n",
       "      <td>39744308.0</td>\n",
       "      <td>14.0</td>\n",
       "      <td>101.0</td>\n",
       "      <td>900.0</td>\n",
       "      <td>1.0</td>\n",
       "      <td>0.0</td>\n",
       "      <td>2020-04-19 00:00:00</td>\n",
       "      <td>0.0</td>\n",
       "      <td>1.0</td>\n",
       "      <td>138.0</td>\n",
       "      <td>0.0</td>\n",
       "    </tr>\n",
       "    <tr>\n",
       "      <th>50%</th>\n",
       "      <td>3.503224e+07</td>\n",
       "      <td>122455569.0</td>\n",
       "      <td>14.0</td>\n",
       "      <td>101.0</td>\n",
       "      <td>1429.0</td>\n",
       "      <td>1.0</td>\n",
       "      <td>2.0</td>\n",
       "      <td>2022-10-21 00:00:00</td>\n",
       "      <td>0.0</td>\n",
       "      <td>4.0</td>\n",
       "      <td>309.0</td>\n",
       "      <td>0.0</td>\n",
       "    </tr>\n",
       "    <tr>\n",
       "      <th>75%</th>\n",
       "      <td>5.256284e+07</td>\n",
       "      <td>239027368.0</td>\n",
       "      <td>14.0</td>\n",
       "      <td>101.0</td>\n",
       "      <td>2429.0</td>\n",
       "      <td>7.0</td>\n",
       "      <td>13.0</td>\n",
       "      <td>2022-12-03 00:00:00</td>\n",
       "      <td>1.0</td>\n",
       "      <td>13.0</td>\n",
       "      <td>360.0</td>\n",
       "      <td>3.0</td>\n",
       "    </tr>\n",
       "    <tr>\n",
       "      <th>max</th>\n",
       "      <td>7.908162e+17</td>\n",
       "      <td>492665929.0</td>\n",
       "      <td>14.0</td>\n",
       "      <td>101.0</td>\n",
       "      <td>1100000.0</td>\n",
       "      <td>1125.0</td>\n",
       "      <td>1224.0</td>\n",
       "      <td>2022-12-28 00:00:00</td>\n",
       "      <td>19.0</td>\n",
       "      <td>228.0</td>\n",
       "      <td>365.0</td>\n",
       "      <td>325.0</td>\n",
       "    </tr>\n",
       "    <tr>\n",
       "      <th>std</th>\n",
       "      <td>2.946082e+17</td>\n",
       "      <td>131866606.0</td>\n",
       "      <td>0.0</td>\n",
       "      <td>0.0</td>\n",
       "      <td>24973.0</td>\n",
       "      <td>51.0</td>\n",
       "      <td>41.0</td>\n",
       "      <td>NaN</td>\n",
       "      <td>1.0</td>\n",
       "      <td>30.0</td>\n",
       "      <td>126.0</td>\n",
       "      <td>9.0</td>\n",
       "    </tr>\n",
       "  </tbody>\n",
       "</table>\n",
       "</div>"
      ],
      "text/plain": [
       "                 id      host_id  latitude  longitude      price  \\\n",
       "count  1.585300e+04      15853.0   15853.0    15853.0    15853.0   \n",
       "mean   1.579496e+17  154092757.0      14.0      101.0     3218.0   \n",
       "min    2.793400e+04      58920.0      14.0      100.0      278.0   \n",
       "25%    2.104509e+07   39744308.0      14.0      101.0      900.0   \n",
       "50%    3.503224e+07  122455569.0      14.0      101.0     1429.0   \n",
       "75%    5.256284e+07  239027368.0      14.0      101.0     2429.0   \n",
       "max    7.908162e+17  492665929.0      14.0      101.0  1100000.0   \n",
       "std    2.946082e+17  131866606.0       0.0        0.0    24973.0   \n",
       "\n",
       "       minimum_nights  number_of_reviews                    last_review  \\\n",
       "count         15853.0            15853.0                          15853   \n",
       "mean             15.0               17.0  2021-11-11 02:59:12.993124352   \n",
       "min               1.0                0.0            2012-12-15 00:00:00   \n",
       "25%               1.0                0.0            2020-04-19 00:00:00   \n",
       "50%               1.0                2.0            2022-10-21 00:00:00   \n",
       "75%               7.0               13.0            2022-12-03 00:00:00   \n",
       "max            1125.0             1224.0            2022-12-28 00:00:00   \n",
       "std              51.0               41.0                            NaN   \n",
       "\n",
       "       reviews_per_month  calculated_host_listings_count  availability_365  \\\n",
       "count            15853.0                         15853.0           15853.0   \n",
       "mean                 1.0                            14.0             244.0   \n",
       "min                  0.0                             1.0               0.0   \n",
       "25%                  0.0                             1.0             138.0   \n",
       "50%                  0.0                             4.0             309.0   \n",
       "75%                  1.0                            13.0             360.0   \n",
       "max                 19.0                           228.0             365.0   \n",
       "std                  1.0                            30.0             126.0   \n",
       "\n",
       "       number_of_reviews_ltm  \n",
       "count                15853.0  \n",
       "mean                     3.0  \n",
       "min                      0.0  \n",
       "25%                      0.0  \n",
       "50%                      0.0  \n",
       "75%                      3.0  \n",
       "max                    325.0  \n",
       "std                      9.0  "
      ]
     },
     "execution_count": 228,
     "metadata": {},
     "output_type": "execute_result"
    }
   ],
   "source": [
    "round(df.describe())"
   ]
  },
  {
   "cell_type": "markdown",
   "metadata": {},
   "source": [
    "Referring to the table description, I am focusing on columns that have a particularly wide range between their maximum and minimum values:\n",
    "\n",
    "1. The `price` column stands out with a significant range, from 278 to 1,100,000 baht.\n",
    "2. The `minimum_nights` column also varies widely, with values ranging from 1 to 1125 nights.\n",
    "3. Although the `number_of_reviews` column also displays a large spread, I do not plan to make any changes to it. Since my main interest is in measuring popularity, retaining the highest review counts is relevant. These high numbers may indicate popular listings or hosts who manage several properties.\n",
    "4. I also do not intend to further explore the other review-related columns, as they appear to be correlated with `number_of_reviews`, based on the initial feature explanations.\n",
    "5. The `calculated_host_listings_count` column also shows a wide range, but I will not remove it. I am interested in examining whether there is a relationship between the number of listings a host has and the popularity of those listings. For instance, one host named Curry has a `calculated_host_listings_count` value of 228. After checking, it is confirmed that all of those listings do belong to that host.\n",
    "6. Similarly, I will retain the original values in the `availability_365` column and will not remove any outliers."
   ]
  },
  {
   "cell_type": "code",
   "execution_count": 229,
   "metadata": {},
   "outputs": [
    {
     "data": {
      "text/html": [
       "<div>\n",
       "<style scoped>\n",
       "    .dataframe tbody tr th:only-of-type {\n",
       "        vertical-align: middle;\n",
       "    }\n",
       "\n",
       "    .dataframe tbody tr th {\n",
       "        vertical-align: top;\n",
       "    }\n",
       "\n",
       "    .dataframe thead th {\n",
       "        text-align: right;\n",
       "    }\n",
       "</style>\n",
       "<table border=\"1\" class=\"dataframe\">\n",
       "  <thead>\n",
       "    <tr style=\"text-align: right;\">\n",
       "      <th></th>\n",
       "      <th>id</th>\n",
       "      <th>name</th>\n",
       "      <th>host_id</th>\n",
       "      <th>host_name</th>\n",
       "      <th>neighbourhood</th>\n",
       "      <th>latitude</th>\n",
       "      <th>longitude</th>\n",
       "      <th>room_type</th>\n",
       "      <th>price</th>\n",
       "      <th>minimum_nights</th>\n",
       "      <th>number_of_reviews</th>\n",
       "      <th>last_review</th>\n",
       "      <th>reviews_per_month</th>\n",
       "      <th>calculated_host_listings_count</th>\n",
       "      <th>availability_365</th>\n",
       "      <th>number_of_reviews_ltm</th>\n",
       "    </tr>\n",
       "  </thead>\n",
       "  <tbody>\n",
       "    <tr>\n",
       "      <th>6473</th>\n",
       "      <td>31029786</td>\n",
       "      <td>Near The Grand Palace/ASOK Station/Sukhumvit#05</td>\n",
       "      <td>201677068</td>\n",
       "      <td>Curry</td>\n",
       "      <td>Khlong Toei</td>\n",
       "      <td>13.735100</td>\n",
       "      <td>100.559190</td>\n",
       "      <td>Entire home/apt</td>\n",
       "      <td>2057</td>\n",
       "      <td>1</td>\n",
       "      <td>60</td>\n",
       "      <td>2022-12-11</td>\n",
       "      <td>1.24</td>\n",
       "      <td>228</td>\n",
       "      <td>361</td>\n",
       "      <td>18</td>\n",
       "    </tr>\n",
       "    <tr>\n",
       "      <th>6479</th>\n",
       "      <td>30804041</td>\n",
       "      <td>Near The Grand Palace/ASOK Station/Sukhumvit 5...</td>\n",
       "      <td>201677068</td>\n",
       "      <td>Curry</td>\n",
       "      <td>Khlong Toei</td>\n",
       "      <td>13.733850</td>\n",
       "      <td>100.557140</td>\n",
       "      <td>Entire home/apt</td>\n",
       "      <td>2057</td>\n",
       "      <td>1</td>\n",
       "      <td>76</td>\n",
       "      <td>2022-12-14</td>\n",
       "      <td>1.55</td>\n",
       "      <td>228</td>\n",
       "      <td>361</td>\n",
       "      <td>19</td>\n",
       "    </tr>\n",
       "    <tr>\n",
       "      <th>6672</th>\n",
       "      <td>31607546</td>\n",
       "      <td>Near The Grand Palace/ASOK Station/Sukhumvit#06</td>\n",
       "      <td>201677068</td>\n",
       "      <td>Curry</td>\n",
       "      <td>Khlong Toei</td>\n",
       "      <td>13.733950</td>\n",
       "      <td>100.558800</td>\n",
       "      <td>Entire home/apt</td>\n",
       "      <td>2057</td>\n",
       "      <td>1</td>\n",
       "      <td>101</td>\n",
       "      <td>2022-12-14</td>\n",
       "      <td>2.10</td>\n",
       "      <td>228</td>\n",
       "      <td>361</td>\n",
       "      <td>20</td>\n",
       "    </tr>\n",
       "    <tr>\n",
       "      <th>7009</th>\n",
       "      <td>32504596</td>\n",
       "      <td>New! Sukhumvit NANA 1BR Suit near BTS 2PPL</td>\n",
       "      <td>201677068</td>\n",
       "      <td>Curry</td>\n",
       "      <td>Ratchathewi</td>\n",
       "      <td>13.750870</td>\n",
       "      <td>100.555970</td>\n",
       "      <td>Entire home/apt</td>\n",
       "      <td>1466</td>\n",
       "      <td>3</td>\n",
       "      <td>86</td>\n",
       "      <td>2022-11-08</td>\n",
       "      <td>1.87</td>\n",
       "      <td>228</td>\n",
       "      <td>356</td>\n",
       "      <td>14</td>\n",
       "    </tr>\n",
       "    <tr>\n",
       "      <th>7244</th>\n",
       "      <td>32970026</td>\n",
       "      <td>30days!  Sukhumvit NANA spacious 1BR 2PPL near...</td>\n",
       "      <td>201677068</td>\n",
       "      <td>Curry</td>\n",
       "      <td>Ratchathewi</td>\n",
       "      <td>13.749710</td>\n",
       "      <td>100.556570</td>\n",
       "      <td>Entire home/apt</td>\n",
       "      <td>1466</td>\n",
       "      <td>3</td>\n",
       "      <td>81</td>\n",
       "      <td>2022-11-04</td>\n",
       "      <td>1.78</td>\n",
       "      <td>228</td>\n",
       "      <td>358</td>\n",
       "      <td>7</td>\n",
       "    </tr>\n",
       "    <tr>\n",
       "      <th>...</th>\n",
       "      <td>...</td>\n",
       "      <td>...</td>\n",
       "      <td>...</td>\n",
       "      <td>...</td>\n",
       "      <td>...</td>\n",
       "      <td>...</td>\n",
       "      <td>...</td>\n",
       "      <td>...</td>\n",
       "      <td>...</td>\n",
       "      <td>...</td>\n",
       "      <td>...</td>\n",
       "      <td>...</td>\n",
       "      <td>...</td>\n",
       "      <td>...</td>\n",
       "      <td>...</td>\n",
       "      <td>...</td>\n",
       "    </tr>\n",
       "    <tr>\n",
       "      <th>14906</th>\n",
       "      <td>750412362717761633</td>\n",
       "      <td>New!Near The Grand Palace/ASOK Station/4PPL</td>\n",
       "      <td>201677068</td>\n",
       "      <td>Curry</td>\n",
       "      <td>Khlong Toei</td>\n",
       "      <td>13.735637</td>\n",
       "      <td>100.557799</td>\n",
       "      <td>Entire home/apt</td>\n",
       "      <td>3429</td>\n",
       "      <td>1</td>\n",
       "      <td>3</td>\n",
       "      <td>2022-12-25</td>\n",
       "      <td>3.00</td>\n",
       "      <td>228</td>\n",
       "      <td>360</td>\n",
       "      <td>3</td>\n",
       "    </tr>\n",
       "    <tr>\n",
       "      <th>15336</th>\n",
       "      <td>771365335830828138</td>\n",
       "      <td>30days! AirportLink Sukhumvit NANA MaxValu 2BR...</td>\n",
       "      <td>201677068</td>\n",
       "      <td>Curry</td>\n",
       "      <td>Ratchathewi</td>\n",
       "      <td>13.750300</td>\n",
       "      <td>100.555503</td>\n",
       "      <td>Entire home/apt</td>\n",
       "      <td>3994</td>\n",
       "      <td>3</td>\n",
       "      <td>0</td>\n",
       "      <td>2022-12-25</td>\n",
       "      <td>0.00</td>\n",
       "      <td>228</td>\n",
       "      <td>340</td>\n",
       "      <td>0</td>\n",
       "    </tr>\n",
       "    <tr>\n",
       "      <th>15474</th>\n",
       "      <td>780130696121233047</td>\n",
       "      <td>月租特惠！豪华两卧两卫！Ekkamai BTS/The Emporium/曼谷大学/无边泳池...</td>\n",
       "      <td>201677068</td>\n",
       "      <td>Curry</td>\n",
       "      <td>Khlong Toei</td>\n",
       "      <td>13.718087</td>\n",
       "      <td>100.580706</td>\n",
       "      <td>Entire home/apt</td>\n",
       "      <td>1588</td>\n",
       "      <td>30</td>\n",
       "      <td>0</td>\n",
       "      <td>2022-12-25</td>\n",
       "      <td>0.00</td>\n",
       "      <td>228</td>\n",
       "      <td>304</td>\n",
       "      <td>0</td>\n",
       "    </tr>\n",
       "    <tr>\n",
       "      <th>15515</th>\n",
       "      <td>777296851892558815</td>\n",
       "      <td>One Siam/Platinum Fashion Mall/Mrt Arl Bts/MBK...</td>\n",
       "      <td>201677068</td>\n",
       "      <td>Curry</td>\n",
       "      <td>Ratchathewi</td>\n",
       "      <td>13.756598</td>\n",
       "      <td>100.540777</td>\n",
       "      <td>Entire home/apt</td>\n",
       "      <td>2000</td>\n",
       "      <td>25</td>\n",
       "      <td>0</td>\n",
       "      <td>2022-12-25</td>\n",
       "      <td>0.00</td>\n",
       "      <td>228</td>\n",
       "      <td>348</td>\n",
       "      <td>0</td>\n",
       "    </tr>\n",
       "    <tr>\n",
       "      <th>15783</th>\n",
       "      <td>787294451273878620</td>\n",
       "      <td>5days!New!Bang Phlat MRT 600m/swiming pool/gym</td>\n",
       "      <td>201677068</td>\n",
       "      <td>Curry</td>\n",
       "      <td>Bang Phlat</td>\n",
       "      <td>13.788938</td>\n",
       "      <td>100.503600</td>\n",
       "      <td>Entire home/apt</td>\n",
       "      <td>3822</td>\n",
       "      <td>5</td>\n",
       "      <td>0</td>\n",
       "      <td>2022-12-25</td>\n",
       "      <td>0.00</td>\n",
       "      <td>228</td>\n",
       "      <td>311</td>\n",
       "      <td>0</td>\n",
       "    </tr>\n",
       "  </tbody>\n",
       "</table>\n",
       "<p>228 rows × 16 columns</p>\n",
       "</div>"
      ],
      "text/plain": [
       "                       id                                               name  \\\n",
       "6473             31029786    Near The Grand Palace/ASOK Station/Sukhumvit#05   \n",
       "6479             30804041  Near The Grand Palace/ASOK Station/Sukhumvit 5...   \n",
       "6672             31607546    Near The Grand Palace/ASOK Station/Sukhumvit#06   \n",
       "7009             32504596         New! Sukhumvit NANA 1BR Suit near BTS 2PPL   \n",
       "7244             32970026  30days!  Sukhumvit NANA spacious 1BR 2PPL near...   \n",
       "...                   ...                                                ...   \n",
       "14906  750412362717761633        New!Near The Grand Palace/ASOK Station/4PPL   \n",
       "15336  771365335830828138  30days! AirportLink Sukhumvit NANA MaxValu 2BR...   \n",
       "15474  780130696121233047  月租特惠！豪华两卧两卫！Ekkamai BTS/The Emporium/曼谷大学/无边泳池...   \n",
       "15515  777296851892558815  One Siam/Platinum Fashion Mall/Mrt Arl Bts/MBK...   \n",
       "15783  787294451273878620     5days!New!Bang Phlat MRT 600m/swiming pool/gym   \n",
       "\n",
       "         host_id host_name neighbourhood   latitude   longitude  \\\n",
       "6473   201677068     Curry   Khlong Toei  13.735100  100.559190   \n",
       "6479   201677068     Curry   Khlong Toei  13.733850  100.557140   \n",
       "6672   201677068     Curry   Khlong Toei  13.733950  100.558800   \n",
       "7009   201677068     Curry   Ratchathewi  13.750870  100.555970   \n",
       "7244   201677068     Curry   Ratchathewi  13.749710  100.556570   \n",
       "...          ...       ...           ...        ...         ...   \n",
       "14906  201677068     Curry   Khlong Toei  13.735637  100.557799   \n",
       "15336  201677068     Curry   Ratchathewi  13.750300  100.555503   \n",
       "15474  201677068     Curry   Khlong Toei  13.718087  100.580706   \n",
       "15515  201677068     Curry   Ratchathewi  13.756598  100.540777   \n",
       "15783  201677068     Curry    Bang Phlat  13.788938  100.503600   \n",
       "\n",
       "             room_type  price  minimum_nights  number_of_reviews last_review  \\\n",
       "6473   Entire home/apt   2057               1                 60  2022-12-11   \n",
       "6479   Entire home/apt   2057               1                 76  2022-12-14   \n",
       "6672   Entire home/apt   2057               1                101  2022-12-14   \n",
       "7009   Entire home/apt   1466               3                 86  2022-11-08   \n",
       "7244   Entire home/apt   1466               3                 81  2022-11-04   \n",
       "...                ...    ...             ...                ...         ...   \n",
       "14906  Entire home/apt   3429               1                  3  2022-12-25   \n",
       "15336  Entire home/apt   3994               3                  0  2022-12-25   \n",
       "15474  Entire home/apt   1588              30                  0  2022-12-25   \n",
       "15515  Entire home/apt   2000              25                  0  2022-12-25   \n",
       "15783  Entire home/apt   3822               5                  0  2022-12-25   \n",
       "\n",
       "       reviews_per_month  calculated_host_listings_count  availability_365  \\\n",
       "6473                1.24                             228               361   \n",
       "6479                1.55                             228               361   \n",
       "6672                2.10                             228               361   \n",
       "7009                1.87                             228               356   \n",
       "7244                1.78                             228               358   \n",
       "...                  ...                             ...               ...   \n",
       "14906               3.00                             228               360   \n",
       "15336               0.00                             228               340   \n",
       "15474               0.00                             228               304   \n",
       "15515               0.00                             228               348   \n",
       "15783               0.00                             228               311   \n",
       "\n",
       "       number_of_reviews_ltm  \n",
       "6473                      18  \n",
       "6479                      19  \n",
       "6672                      20  \n",
       "7009                      14  \n",
       "7244                       7  \n",
       "...                      ...  \n",
       "14906                      3  \n",
       "15336                      0  \n",
       "15474                      0  \n",
       "15515                      0  \n",
       "15783                      0  \n",
       "\n",
       "[228 rows x 16 columns]"
      ]
     },
     "execution_count": 229,
     "metadata": {},
     "output_type": "execute_result"
    }
   ],
   "source": [
    "# For example, we can check `calculated_host_listings_count` which has a maximum value of 228\n",
    "\n",
    "df[df['calculated_host_listings_count'] == 228]"
   ]
  },
  {
   "cell_type": "code",
   "execution_count": 230,
   "metadata": {},
   "outputs": [
    {
     "data": {
      "text/plain": [
       "<function matplotlib.pyplot.show(close=None, block=None)>"
      ]
     },
     "execution_count": 230,
     "metadata": {},
     "output_type": "execute_result"
    },
    {
     "data": {
      "image/png": "[encoded data removed]",
      "text/plain": [
       "<Figure size 640x480 with 1 Axes>"
      ]
     },
     "metadata": {},
     "output_type": "display_data"
    }
   ],
   "source": [
    "# Performing visual inspection of variable `price`\n",
    "\n",
    "sns.histplot(data=df, x='price',kde=True);\n",
    "\n",
    "plt.title('Distribution of Price')\n",
    "\n",
    "plt.ylabel('Frequency')\n",
    "plt.show"
   ]
  },
  {
   "cell_type": "code",
   "execution_count": 231,
   "metadata": {},
   "outputs": [
    {
     "name": "stdout",
     "output_type": "stream",
     "text": [
      "<class 'pandas.core.frame.DataFrame'>\n",
      "Index: 15853 entries, 0 to 15853\n",
      "Data columns (total 16 columns):\n",
      " #   Column                          Non-Null Count  Dtype         \n",
      "---  ------                          --------------  -----         \n",
      " 0   id                              15853 non-null  int64         \n",
      " 1   name                            15853 non-null  object        \n",
      " 2   host_id                         15853 non-null  int64         \n",
      " 3   host_name                       15853 non-null  object        \n",
      " 4   neighbourhood                   15853 non-null  object        \n",
      " 5   latitude                        15853 non-null  float64       \n",
      " 6   longitude                       15853 non-null  float64       \n",
      " 7   room_type                       15853 non-null  object        \n",
      " 8   price                           15853 non-null  int64         \n",
      " 9   minimum_nights                  15853 non-null  int64         \n",
      " 10  number_of_reviews               15853 non-null  int64         \n",
      " 11  last_review                     15853 non-null  datetime64[ns]\n",
      " 12  reviews_per_month               15853 non-null  float64       \n",
      " 13  calculated_host_listings_count  15853 non-null  int64         \n",
      " 14  availability_365                15853 non-null  int64         \n",
      " 15  number_of_reviews_ltm           15853 non-null  int64         \n",
      "dtypes: datetime64[ns](1), float64(3), int64(8), object(4)\n",
      "memory usage: 2.6+ MB\n"
     ]
    }
   ],
   "source": [
    "df.info()"
   ]
  },
  {
   "cell_type": "code",
   "execution_count": 232,
   "metadata": {},
   "outputs": [
    {
     "data": {
      "text/plain": [
       "<function matplotlib.pyplot.legend(*args, **kwargs) -> 'Legend'>"
      ]
     },
     "execution_count": 232,
     "metadata": {},
     "output_type": "execute_result"
    },
    {
     "data": {
      "image/png": "[encoded data removed]",
      "text/plain": [
       "<Figure size 2000x500 with 1 Axes>"
      ]
     },
     "metadata": {},
     "output_type": "display_data"
    }
   ],
   "source": [
    "plt.figure(figsize=(20,5))\n",
    "\n",
    "#  Create boxplot\n",
    "sns.boxplot(data = df,\n",
    "            x = 'price',     \n",
    "            y = 'room_type'\n",
    "            )   \n",
    "\n",
    "# Add title\n",
    "plt.title('Distribution of Price categorize on Room Type')\n",
    "\n",
    "# Show Legend\n",
    "plt.legend"
   ]
  },
  {
   "cell_type": "markdown",
   "metadata": {},
   "source": [
    "The graph above shows that prices across different room types are not normally distributed. The highest outlier comes from hosts offering entire homes or apartments. That is why I decided to take a closer look at the outliers in the `price` data."
   ]
  },
  {
   "cell_type": "code",
   "execution_count": 233,
   "metadata": {},
   "outputs": [
    {
     "name": "stdout",
     "output_type": "stream",
     "text": [
      "Number of listings in upper bound: 1403\n",
      "Median price of data in upper bound: 7340.0\n",
      "Number of data that exceed the median value: 701\n",
      "Proportion of outliers are 0.04421875985617864\n"
     ]
    }
   ],
   "source": [
    "# Calculate the first and third quartiles of the 'price' column\n",
    "Q1 = df['price'].describe()['25%']\n",
    "Q3 = df['price'].describe()['75%']\n",
    "\n",
    "# Compute the interquartile range (IQR)\n",
    "IQR = Q3 - Q1\n",
    "\n",
    "# Filter listings where the price is greater than the upper bound (Q3 + 1.5 * IQR)\n",
    "df_upperBound = df[df['price'] > (Q3 + 1.5 * IQR)]\n",
    "\n",
    "# Print the number of listings considered as upper outliers\n",
    "print(f'Number of listings in upper bound: {len(df_upperBound)}')\n",
    "\n",
    "# Print the median price among the upper-bound outliers\n",
    "print(f\"Median price of data in upper bound: {df_upperBound['price'].median()}\")\n",
    "\n",
    "# Count how many of those outliers have a price above the median of the outlier group\n",
    "print(f\"Number of data that exceed the median value: {len(df_upperBound[df_upperBound['price'] > df_upperBound['price'].median()])}\")\n",
    "\n",
    "# Calculate and print the proportion of extreme outliers (above median) relative to the entire dataset\n",
    "print(f'''Proportion of outliers are {len(df_upperBound[df_upperBound['price'] > df_upperBound['price'].median()]) / len(df)}''')"
   ]
  },
  {
   "cell_type": "markdown",
   "metadata": {},
   "source": [
    "For the purpose of this analysis, I intend to focus on affordability. To achieve this, I am using data that is more centrally distributed. After performing the calculations, I found that outliers—listings with prices above 7,340—represent only 4.42 percent of the entire dataset. Given their minimal proportion and in order to maintain a focus on typical pricing behavior, I have decided to remove these outlier entries."
   ]
  },
  {
   "cell_type": "code",
   "execution_count": 234,
   "metadata": {},
   "outputs": [
    {
     "data": {
      "text/plain": [
       "15152"
      ]
     },
     "execution_count": 234,
     "metadata": {},
     "output_type": "execute_result"
    }
   ],
   "source": [
    "df_clean = df.drop(df[df['price'] > 7340].index)\n",
    "len(df_clean)"
   ]
  },
  {
   "cell_type": "code",
   "execution_count": 235,
   "metadata": {},
   "outputs": [
    {
     "name": "stderr",
     "output_type": "stream",
     "text": [
      "C:\\Users\\ASUS\\AppData\\Local\\Temp\\ipykernel_23668\\2451311764.py:18: FutureWarning: \n",
      "\n",
      "The `ci` parameter is deprecated. Use `errorbar=('ci', 0)` for the same effect.\n",
      "\n",
      "  sns.barplot(data=df_clean, x='neighbourhood', y='price', ci=0, estimator='median', order=median_prices.index)\n"
     ]
    },
    {
     "data": {
      "image/png": "[encoded data removed]",
      "text/plain": [
       "<Figure size 1500x1000 with 1 Axes>"
      ]
     },
     "metadata": {},
     "output_type": "display_data"
    },
    {
     "data": {
      "image/png": "[encoded data removed]",
      "text/plain": [
       "<Figure size 1500x1000 with 1 Axes>"
      ]
     },
     "metadata": {},
     "output_type": "display_data"
    }
   ],
   "source": [
    "\n",
    "plt.figure(figsize=(15,10))\n",
    "\n",
    "plt.subplot(1,2,1)\n",
    "median_prices = df_clean.groupby('neighbourhood')['price'].median().sort_values(ascending=False)\n",
    "\n",
    "# Create boxplot \n",
    "sns.boxplot(data = df_clean,\n",
    "            x = 'price',     \n",
    "            y = 'neighbourhood',\n",
    "            order=median_prices.index\n",
    "            )   \n",
    "\n",
    "# Add title to the graph\n",
    "plt.title('Distribution of Price categorize on neighbourhood')\n",
    "\n",
    "# -------------------------------------------------------------------------------------------\n",
    "plt.figure(figsize=(15, 10))\n",
    "sns.barplot(data=df_clean, x='neighbourhood', y='price', ci=0, estimator='median', order=median_prices.index)\n",
    "\n",
    "# Rotate x-axis labels by 90 degrees\n",
    "plt.xticks(rotation=90)\n",
    "\n",
    "plt.title('Median Price for Each Neighbourhood')\n",
    "plt.ylabel('price in Baht')\n",
    "plt.show()\n"
   ]
  },
  {
   "cell_type": "code",
   "execution_count": 236,
   "metadata": {},
   "outputs": [
    {
     "data": {
      "text/plain": [
       "<function matplotlib.pyplot.legend(*args, **kwargs) -> 'Legend'>"
      ]
     },
     "execution_count": 236,
     "metadata": {},
     "output_type": "execute_result"
    },
    {
     "data": {
      "image/png": "[encoded data removed]",
      "text/plain": [
       "<Figure size 2000x500 with 1 Axes>"
      ]
     },
     "metadata": {},
     "output_type": "display_data"
    }
   ],
   "source": [
    "plt.figure(figsize=(20,5))\n",
    "\n",
    "#  Create boxplot\n",
    "sns.boxplot(data = df_popular,\n",
    "            x = 'price',     \n",
    "            y = 'room_type'\n",
    "            )   \n",
    "\n",
    "# Add title\n",
    "plt.title('Distribution of Price categorize on Room Type')\n",
    "\n",
    "# Show Legend\n",
    "plt.legend"
   ]
  },
  {
   "cell_type": "code",
   "execution_count": 237,
   "metadata": {},
   "outputs": [
    {
     "name": "stdout",
     "output_type": "stream",
     "text": [
      "neighbourhood\n",
      "Vadhana        383\n",
      "Khlong Toei    210\n",
      "Huai Khwang     94\n",
      "Bang Rak        89\n",
      "Parthum Wan     79\n",
      "dtype: int64\n"
     ]
    }
   ],
   "source": [
    "# Computing the upper bound for the price column\n",
    "upper_bound = Q3 + 1.5 * IQR\n",
    "\n",
    "# Create a column to mark outliers\n",
    "df['is_outlier'] = df['price'] > upper_bound\n",
    "\n",
    "# Count number of outliers per neighbourhood\n",
    "outlier_counts = df[df['is_outlier']].groupby('neighbourhood').size().sort_values(ascending=False)\n",
    "\n",
    "# Show top 5 neighbourhoods with most price outliers\n",
    "print(outlier_counts.head(5))"
   ]
  },
  {
   "cell_type": "code",
   "execution_count": 238,
   "metadata": {},
   "outputs": [
    {
     "data": {
      "text/plain": [
       "count    15152.0\n",
       "mean      1755.0\n",
       "std       1275.0\n",
       "min        278.0\n",
       "25%        890.0\n",
       "50%       1375.0\n",
       "75%       2186.0\n",
       "max       7340.0\n",
       "Name: price, dtype: float64"
      ]
     },
     "execution_count": 238,
     "metadata": {},
     "output_type": "execute_result"
    }
   ],
   "source": [
    "round(df_clean['price'].describe())"
   ]
  },
  {
   "cell_type": "markdown",
   "metadata": {},
   "source": [
    "Based on visual inspection of the above graphs and data calculation, I can conclude that:\n",
    "\n",
    "**BOXPLOT Insights**\n",
    "\n",
    "1. The five neighbourhoods with the most noticeable number of outliers are Vadhana (383), Khlong Toei (210), Huai Khwang (94), Bang Rak (89), and Parthum Wan (79).\n",
    "2. A wide range of prices is visible across most neighbourhoods. This variation is likely influenced by the availability of four different room types, each contributing differently to listing prices.\n",
    "3. In general, the neighbourhoods have prices that fall between 278 and 7340 Baht (especially after trimming outliers in variable price that is beyond media upperbound).\n",
    "\n",
    "**BARPLOT Insights**\n",
    "\n",
    "1. The three neighbourhoods with the highest median prices are Parthum Wan, Vadhana, and Samphanthawong.\n",
    "2. On the other hand, Nong Khaem, Don Mueang, and Wang Thong Lang have the lowest median prices.\n",
    "3. Most neighbourhoods show a median price above 800 Baht."
   ]
  },
  {
   "cell_type": "markdown",
   "metadata": {},
   "source": [
    "Next, I examined the `minimum_nights` column and became interested in identifying listings that require stays longer than 365 days. Since Airbnb is generally used for short-term accommodations, such listings stand out as unusual. Here is the reference from **[Investopedia Source](https://www.investopedia.com/articles/personal-finance/032814/pros-and-cons-using-airbnb.asp#:~:text=Airbnb%20is%20an%20online%20marketplace,cheaper%20and%20homier%20than%20hotels)**."
   ]
  },
  {
   "cell_type": "code",
   "execution_count": 239,
   "metadata": {},
   "outputs": [
    {
     "data": {
      "text/plain": [
       "11"
      ]
     },
     "execution_count": 239,
     "metadata": {},
     "output_type": "execute_result"
    }
   ],
   "source": [
    "len(df_clean[df_clean['minimum_nights'] > 365].index)"
   ]
  },
  {
   "cell_type": "markdown",
   "metadata": {},
   "source": [
    "I discovered that only 11 listings have a minimum stay requirement of more than 365 nights. Since my analysis is focused on stays between 1 and 365 days, I decided to remove these listings from the dataset."
   ]
  },
  {
   "cell_type": "code",
   "execution_count": 240,
   "metadata": {},
   "outputs": [
    {
     "data": {
      "text/plain": [
       "15141"
      ]
     },
     "execution_count": 240,
     "metadata": {},
     "output_type": "execute_result"
    }
   ],
   "source": [
    "df_clean = df_clean.drop(df_clean[df_clean['minimum_nights'] > 365].index)\n",
    "len(df_clean)"
   ]
  },
  {
   "cell_type": "code",
   "execution_count": 241,
   "metadata": {},
   "outputs": [],
   "source": [
    "# Adding year column in df_clean dataset\n",
    "\n",
    "df_clean['last_review'] = pd.to_datetime(df_clean['last_review'])  # Convert to datetime format\n",
    "df_clean['year'] = df_clean['last_review'].dt.year "
   ]
  },
  {
   "cell_type": "code",
   "execution_count": 242,
   "metadata": {},
   "outputs": [
    {
     "name": "stderr",
     "output_type": "stream",
     "text": [
      "C:\\Users\\ASUS\\AppData\\Local\\Temp\\ipykernel_23668\\3186412317.py:1: UserWarning: Boolean Series key will be reindexed to match DataFrame index.\n",
      "  df[df_clean['year'] == 2012]\n"
     ]
    },
    {
     "ename": "IndexingError",
     "evalue": "Unalignable boolean Series provided as indexer (index of the boolean Series and of the indexed object do not match).",
     "output_type": "error",
     "traceback": [
      "\u001b[1;31m---------------------------------------------------------------------------\u001b[0m",
      "\u001b[1;31mIndexingError\u001b[0m                             Traceback (most recent call last)",
      "Cell \u001b[1;32mIn[242], line 1\u001b[0m\n\u001b[1;32m----> 1\u001b[0m \u001b[43mdf\u001b[49m\u001b[43m[\u001b[49m\u001b[43mdf_clean\u001b[49m\u001b[43m[\u001b[49m\u001b[38;5;124;43m'\u001b[39;49m\u001b[38;5;124;43myear\u001b[39;49m\u001b[38;5;124;43m'\u001b[39;49m\u001b[43m]\u001b[49m\u001b[43m \u001b[49m\u001b[38;5;241;43m==\u001b[39;49m\u001b[43m \u001b[49m\u001b[38;5;241;43m2012\u001b[39;49m\u001b[43m]\u001b[49m\n",
      "File \u001b[1;32m~\\AppData\\Roaming\\Python\\Python312\\site-packages\\pandas\\core\\frame.py:4093\u001b[0m, in \u001b[0;36mDataFrame.__getitem__\u001b[1;34m(self, key)\u001b[0m\n\u001b[0;32m   4091\u001b[0m \u001b[38;5;66;03m# Do we have a (boolean) 1d indexer?\u001b[39;00m\n\u001b[0;32m   4092\u001b[0m \u001b[38;5;28;01mif\u001b[39;00m com\u001b[38;5;241m.\u001b[39mis_bool_indexer(key):\n\u001b[1;32m-> 4093\u001b[0m     \u001b[38;5;28;01mreturn\u001b[39;00m \u001b[38;5;28;43mself\u001b[39;49m\u001b[38;5;241;43m.\u001b[39;49m\u001b[43m_getitem_bool_array\u001b[49m\u001b[43m(\u001b[49m\u001b[43mkey\u001b[49m\u001b[43m)\u001b[49m\n\u001b[0;32m   4095\u001b[0m \u001b[38;5;66;03m# We are left with two options: a single key, and a collection of keys,\u001b[39;00m\n\u001b[0;32m   4096\u001b[0m \u001b[38;5;66;03m# We interpret tuples as collections only for non-MultiIndex\u001b[39;00m\n\u001b[0;32m   4097\u001b[0m is_single_key \u001b[38;5;241m=\u001b[39m \u001b[38;5;28misinstance\u001b[39m(key, \u001b[38;5;28mtuple\u001b[39m) \u001b[38;5;129;01mor\u001b[39;00m \u001b[38;5;129;01mnot\u001b[39;00m is_list_like(key)\n",
      "File \u001b[1;32m~\\AppData\\Roaming\\Python\\Python312\\site-packages\\pandas\\core\\frame.py:4149\u001b[0m, in \u001b[0;36mDataFrame._getitem_bool_array\u001b[1;34m(self, key)\u001b[0m\n\u001b[0;32m   4143\u001b[0m     \u001b[38;5;28;01mraise\u001b[39;00m \u001b[38;5;167;01mValueError\u001b[39;00m(\n\u001b[0;32m   4144\u001b[0m         \u001b[38;5;124mf\u001b[39m\u001b[38;5;124m\"\u001b[39m\u001b[38;5;124mItem wrong length \u001b[39m\u001b[38;5;132;01m{\u001b[39;00m\u001b[38;5;28mlen\u001b[39m(key)\u001b[38;5;132;01m}\u001b[39;00m\u001b[38;5;124m instead of \u001b[39m\u001b[38;5;132;01m{\u001b[39;00m\u001b[38;5;28mlen\u001b[39m(\u001b[38;5;28mself\u001b[39m\u001b[38;5;241m.\u001b[39mindex)\u001b[38;5;132;01m}\u001b[39;00m\u001b[38;5;124m.\u001b[39m\u001b[38;5;124m\"\u001b[39m\n\u001b[0;32m   4145\u001b[0m     )\n\u001b[0;32m   4147\u001b[0m \u001b[38;5;66;03m# check_bool_indexer will throw exception if Series key cannot\u001b[39;00m\n\u001b[0;32m   4148\u001b[0m \u001b[38;5;66;03m# be reindexed to match DataFrame rows\u001b[39;00m\n\u001b[1;32m-> 4149\u001b[0m key \u001b[38;5;241m=\u001b[39m \u001b[43mcheck_bool_indexer\u001b[49m\u001b[43m(\u001b[49m\u001b[38;5;28;43mself\u001b[39;49m\u001b[38;5;241;43m.\u001b[39;49m\u001b[43mindex\u001b[49m\u001b[43m,\u001b[49m\u001b[43m \u001b[49m\u001b[43mkey\u001b[49m\u001b[43m)\u001b[49m\n\u001b[0;32m   4151\u001b[0m \u001b[38;5;28;01mif\u001b[39;00m key\u001b[38;5;241m.\u001b[39mall():\n\u001b[0;32m   4152\u001b[0m     \u001b[38;5;28;01mreturn\u001b[39;00m \u001b[38;5;28mself\u001b[39m\u001b[38;5;241m.\u001b[39mcopy(deep\u001b[38;5;241m=\u001b[39m\u001b[38;5;28;01mNone\u001b[39;00m)\n",
      "File \u001b[1;32m~\\AppData\\Roaming\\Python\\Python312\\site-packages\\pandas\\core\\indexing.py:2662\u001b[0m, in \u001b[0;36mcheck_bool_indexer\u001b[1;34m(index, key)\u001b[0m\n\u001b[0;32m   2660\u001b[0m indexer \u001b[38;5;241m=\u001b[39m result\u001b[38;5;241m.\u001b[39mindex\u001b[38;5;241m.\u001b[39mget_indexer_for(index)\n\u001b[0;32m   2661\u001b[0m \u001b[38;5;28;01mif\u001b[39;00m \u001b[38;5;241m-\u001b[39m\u001b[38;5;241m1\u001b[39m \u001b[38;5;129;01min\u001b[39;00m indexer:\n\u001b[1;32m-> 2662\u001b[0m     \u001b[38;5;28;01mraise\u001b[39;00m IndexingError(\n\u001b[0;32m   2663\u001b[0m         \u001b[38;5;124m\"\u001b[39m\u001b[38;5;124mUnalignable boolean Series provided as \u001b[39m\u001b[38;5;124m\"\u001b[39m\n\u001b[0;32m   2664\u001b[0m         \u001b[38;5;124m\"\u001b[39m\u001b[38;5;124mindexer (index of the boolean Series and of \u001b[39m\u001b[38;5;124m\"\u001b[39m\n\u001b[0;32m   2665\u001b[0m         \u001b[38;5;124m\"\u001b[39m\u001b[38;5;124mthe indexed object do not match).\u001b[39m\u001b[38;5;124m\"\u001b[39m\n\u001b[0;32m   2666\u001b[0m     )\n\u001b[0;32m   2668\u001b[0m result \u001b[38;5;241m=\u001b[39m result\u001b[38;5;241m.\u001b[39mtake(indexer)\n\u001b[0;32m   2670\u001b[0m \u001b[38;5;66;03m# fall through for boolean\u001b[39;00m\n",
      "\u001b[1;31mIndexingError\u001b[0m: Unalignable boolean Series provided as indexer (index of the boolean Series and of the indexed object do not match)."
     ]
    }
   ],
   "source": [
    "df[df_clean['year'] == 2012]"
   ]
  },
  {
   "cell_type": "code",
   "execution_count": null,
   "metadata": {},
   "outputs": [],
   "source": [
    "# Outlier in year. Because there only one data in 2012. I delete the data.\n",
    "\n",
    "df_clean.drop(index=133,inplace= True)"
   ]
  },
  {
   "cell_type": "markdown",
   "metadata": {},
   "source": [
    "This section is important because the original Airbnb dataset was labeled as covering the period from 2012 to 2022. However, there was only a single data point from 2012, which does not represent the entire year. Therefore, I decided to remove the 2012 data and rename the dataset to Airbnb Listings Bangkok 2013–2022."
   ]
  },
  {
   "cell_type": "markdown",
   "metadata": {},
   "source": [
    "## **2. Exploratory Data Analysis (EDA)**"
   ]
  },
  {
   "cell_type": "markdown",
   "metadata": {},
   "source": [
    "### **2.1. Analysis of Popularity to Increase Airbnb Occupancy Rates**\n",
    "\n",
    "When discussing Airbnb occupancy rates, it is closely related to customer engagement and behavior.\n",
    "\n",
    "**Research Question**: What factors influence customers to choose one listing over another?\n",
    "\n",
    "The initial assumption is that customer decisions are primarily influenced by location, minimum stay, property management, price, and popularity.\n",
    "\n",
    "To explore this, I focused on the `availability_365` column, which indicates how many days a listing is available throughout the year. A lower value suggests that the listing has already been booked frequently, while a higher value may imply fewer bookings."
   ]
  },
  {
   "cell_type": "code",
   "execution_count": null,
   "metadata": {},
   "outputs": [],
   "source": [
    "# Total estimate of occupancy rates\n",
    "\n",
    "((365 - df_clean['availability_365']) / 365 * 100).mean().round(2)"
   ]
  },
  {
   "cell_type": "markdown",
   "metadata": {},
   "source": [
    "To better understand how actively each listing is being booked, I calculated the occupancy rate based on the `availability_365` column, which indicates how many days a listing was available throughout the year. The logic is simple: if a listing is available for fewer days, it was likely booked more often.\n",
    "\n",
    "By subtracting the number of available days from 365 and converting it into a percentage, I created a new column, `occupancy_rate`, which gives a more intuitive measure of how much each listing is actually utilized. I also rounded the values to two decimal places for better readability in visualizations and summaries."
   ]
  },
  {
   "cell_type": "code",
   "execution_count": null,
   "metadata": {},
   "outputs": [],
   "source": [
    "# Adding occupancy rate column\n",
    "\n",
    "df_clean['occupancy_rate'] = ((365 - df_clean['availability_365']) / 365) * 100\n",
    "df_clean['occupancy_rate'] = df_clean['occupancy_rate'].round(2)  # round to 2 decimals"
   ]
  },
  {
   "cell_type": "code",
   "execution_count": null,
   "metadata": {},
   "outputs": [],
   "source": [
    "plt.figure(figsize=(10, 6))\n",
    "ax = sns.histplot(data=df_clean, x='availability_365', bins=20)\n",
    "\n",
    "# adding sum of the number above bar label\n",
    "for patch in ax.patches:\n",
    "    height = patch.get_height()\n",
    "    if height > 0:\n",
    "        ax.annotate(f'{int(height)}',\n",
    "                    (patch.get_x() + patch.get_width() / 2, height),\n",
    "                    ha='center', va='bottom', fontsize=9)\n",
    "\n",
    "plt.title('Distribution of Availability (365 Days)')\n",
    "plt.xlabel('Availability (days/year)')\n",
    "plt.ylabel('Count')\n",
    "plt.tight_layout()\n",
    "plt.show()"
   ]
  },
  {
   "cell_type": "markdown",
   "metadata": {},
   "source": [
    "Next, I categorized the popularity by dividing them into quartile groups by column `availability_365`."
   ]
  },
  {
   "cell_type": "code",
   "execution_count": null,
   "metadata": {},
   "outputs": [],
   "source": [
    "# Creating  array from 1 to 365\n",
    "data = np.arange(1, 366)\n",
    "\n",
    "# Calculating quartile (25%, 50%, 75%)\n",
    "Q1 = int(round(np.percentile(data, 25)))\n",
    "Q2 = int(round(np.percentile(data, 50)))  # Median\n",
    "Q3 = int(round(np.percentile(data, 75)))\n",
    "\n",
    "print(\"Quartile Ranges:\")\n",
    "print(f\"Q1: 1 to {Q1}\")\n",
    "print(f\"Q2: {Q1 + 1} to {Q2}\")\n",
    "print(f\"Q3: {Q2 + 1} to {Q3}\")\n",
    "print(f\"Q4: {Q3 + 1} to 365\")\n"
   ]
  },
  {
   "cell_type": "code",
   "execution_count": null,
   "metadata": {},
   "outputs": [],
   "source": [
    "# Make groups based on the number of availability \n",
    "def popularity(availability):\n",
    "    if availability in range(0, 93):\n",
    "        return 'Very Popular'\n",
    "    elif availability in range(92, 184):\n",
    "        return 'Popular'\n",
    "    elif availability in range(183, 275):\n",
    "        return 'Less Popular'\n",
    "    elif availability in range(274, 366):\n",
    "        return 'Not Popular'\n",
    "\n",
    "# Make additional column \n",
    "df_clean['popularity'] = df_clean['availability_365'].apply(popularity)\n"
   ]
  },
  {
   "cell_type": "code",
   "execution_count": null,
   "metadata": {},
   "outputs": [],
   "source": [
    "avail_0_92_df = df_clean[df_clean['availability_365'].between(0, 92)]\n",
    "avail_93_183_df = df_clean[df_clean['availability_365'].between(93, 183)]\n",
    "avail_184_274_df = df_clean[df_clean['availability_365'].between(184, 274)]\n",
    "avail_275_365_df = df_clean[df_clean['availability_365'].between(275, 365)]"
   ]
  },
  {
   "cell_type": "code",
   "execution_count": null,
   "metadata": {},
   "outputs": [],
   "source": [
    "df_popular = pd.concat([avail_0_92_df, avail_93_183_df, avail_184_274_df, avail_275_365_df])\n",
    "\n",
    "popularity_map = {\n",
    "    'Not Popular': 1,\n",
    "    'Less Popular': 2,\n",
    "    'Popular': 3,\n",
    "    'Very Popular': 4\n",
    "}\n",
    "\n",
    "df_popular['popularity_score'] = df_popular['popularity'].map(popularity_map)\n",
    "\n",
    "df_popular.head()"
   ]
  },
  {
   "cell_type": "code",
   "execution_count": null,
   "metadata": {},
   "outputs": [],
   "source": [
    "df_popular.groupby(by='host_name')[['name']].count().sort_values(by='name', ascending=False).head(5)"
   ]
  },
  {
   "cell_type": "code",
   "execution_count": null,
   "metadata": {},
   "outputs": [],
   "source": [
    "plt.figure(figsize=(8, 5))\n",
    "ax = sns.histplot(data=df_popular, x='popularity', discrete=True)\n",
    "\n",
    "# Tambahkan label angka di atas tiap bar\n",
    "for patch in ax.patches:\n",
    "    height = patch.get_height()\n",
    "    if height > 0:\n",
    "        ax.annotate(f'{int(height)}',\n",
    "                    (patch.get_x() + patch.get_width() / 2, height),\n",
    "                    ha='center', va='bottom', fontsize=9)\n",
    "\n",
    "plt.title('The Number of Airbnb Listing on Each Popularity Category')\n",
    "plt.xlabel('Popularity')\n",
    "plt.ylabel('Jumlah')\n",
    "plt.tight_layout()\n",
    "plt.show()\n"
   ]
  },
  {
   "cell_type": "code",
   "execution_count": null,
   "metadata": {},
   "outputs": [],
   "source": [
    "def classify_host(count):\n",
    "    if count <= 4:\n",
    "        return 'Mikro'\n",
    "    elif 5 <= count <= 13:\n",
    "        return 'Medium'\n",
    "    else:\n",
    "        return 'Makro'\n",
    "\n",
    "df_popular['host_type'] = df_popular['calculated_host_listings_count'].apply(classify_host)"
   ]
  },
  {
   "cell_type": "markdown",
   "metadata": {},
   "source": [
    "##### ||| Additional Columns for Airbnb Analysis\n",
    "\n",
    "To support deeper insights from the Airbnb dataset, three new columns were created:\n",
    "\n",
    "1. `popularity` (Categorical Variable): This categorical variable was derived from the `availability_365` column to classify listings based on estimated demand levels:\n",
    "\n",
    "- Very Popular: 0–92 days available (high booking frequency)\n",
    "- Popular: 92–183 days available\n",
    "- Less Popular: 183–274 days available\n",
    "- Not Popular: 274–365 days available (low booking frequency)\n",
    "\n",
    "The logic assumes that the fewer days a listing is available, the more often it is being booked.\n",
    "\n",
    "2. `occupancy_rate` (Numeric Variable): This numeric column represents the estimated percentage of days a listing is occupied, calculated as:\n",
    "\n",
    "occupancy_rate = (365 - 'availability_365') / 365) * 100\n",
    "\n",
    "The result is rounded to two decimal places.\n",
    "\n",
    "3. `year` (Datetime Feature): The `year` column was extracted from the `last_review` column after converting it to datetime format. It captures the year of the most recent review for each listing and allows for year-based filtering and analysis.\n",
    "\n",
    "4. `host_type` (Categorical Variable): Categorizes hosts based on the number of listings they manage, using the `calculated_host_listings_count` column:\n",
    "\n",
    "- Mikro: 1–4 listings\n",
    "- Medium: 5–13 listings\n",
    "- Makro: 14 or more listings\n",
    "\n",
    "This segmentation allows analysis of host scale and performance differences, such as comparing occupancy or popularity by host size."
   ]
  },
  {
   "cell_type": "markdown",
   "metadata": {},
   "source": [
    "## **3. Statistical Analysis**\n",
    "\n",
    "After categorizing the data into four groups based on their popularity, I will examine whether there is any relationship between the variables. Given the large number of columns, I’ve grouped them into categorical and numerical types.\n",
    "\n",
    "#### **3.1. Categorical Variable Test vs Popularity** \n",
    "\n",
    "For categorical vs. categorical statistical testing, the variables include:\n",
    "\n",
    "1. Host Name\n",
    "2. Neighbourhood\n",
    "3. Room Type"
   ]
  },
  {
   "cell_type": "code",
   "execution_count": null,
   "metadata": {},
   "outputs": [],
   "source": [
    "from scipy.stats import chi2_contingency\n",
    "\n",
    "# Hypothesis\n",
    "# H0 = 'host_name' or 'neighbourhood' or 'room_type' dont have any relationship with popularity\n",
    "# Ha = 'host_name' or 'neighbourhood' or 'room_type' have relationship with popularity\n",
    "\n",
    "# Define hypothesis testing function\n",
    "def hypothesis_test(feature):\n",
    "    df_crosstab = pd.crosstab(df_popular['popularity'], df_popular[feature])\n",
    "    stats, p_value, dof, _ = chi2_contingency(df_crosstab)\n",
    "    if p_value > 0.05:\n",
    "        return stats, p_value, \"Accept H0\"\n",
    "    else:\n",
    "        return stats, p_value, \"Reject H0\"\n",
    "\n",
    "# Define features to test\n",
    "features = ['host_name', 'neighbourhood', 'room_type']\n",
    "\n",
    "# Perform hypothesis testing for each feature\n",
    "results = []\n",
    "for feature in features:\n",
    "    stats, p_value, hypothesis_status = hypothesis_test(feature)\n",
    "    results.append({'Feature': feature, 'Statistic': stats, 'P-value': p_value, 'Hypothesis': hypothesis_status})\n",
    "\n",
    "# Sort results based on p-value\n",
    "ranked_results = sorted(results, key=lambda x: x['P-value'])\n",
    "\n",
    "# Print results\n",
    "print(\"Ranked Features based on Chi-squared Test:\")\n",
    "for rank, result in enumerate(ranked_results, 1):\n",
    "    print(f\"{rank}. {result['Feature']}: Statistic = {result['Statistic']:.4f}, P-value = {result['P-value']:.4f}. {result['Hypothesis']} null hypothesis.\")\n"
   ]
  },
  {
   "cell_type": "markdown",
   "metadata": {},
   "source": [
    "In this section, I applied the chi-square test as it is suitable for analyzing relationships between categorical variables. The test results showed that all features led to the rejection of the null hypothesis. This indicates that `host_name`, `neighbourhood`, and `room_type` are associated with popularity and may influence a customer’s decision-making."
   ]
  },
  {
   "cell_type": "markdown",
   "metadata": {},
   "source": [
    "##### **3.1.1. Host Name Analysis**\n",
    "\n",
    "Top 10 host in Bangkok"
   ]
  },
  {
   "cell_type": "code",
   "execution_count": null,
   "metadata": {},
   "outputs": [],
   "source": [
    "# Top 10 hosts based on the number of listings\n",
    "\n",
    "df_popular.groupby('host_name')['calculated_host_listings_count'].max().sort_values(ascending=False).head(10)\n"
   ]
  },
  {
   "cell_type": "code",
   "execution_count": null,
   "metadata": {},
   "outputs": [],
   "source": [
    "# Top 10 hosts based on popularity\n",
    "\n",
    "df_popular[df_popular['popularity'] == 'Very Popular'].groupby('host_name').size().sort_values(ascending=False).head(10)"
   ]
  },
  {
   "cell_type": "code",
   "execution_count": null,
   "metadata": {},
   "outputs": [],
   "source": [
    "host_popular = ['Curry','Mike','Eva','Patty','Weeraya']\n",
    "\n",
    "df_popular[df_popular['host_name'].isin(host_popular)].groupby('host_name')['calculated_host_listings_count'].max()\n"
   ]
  },
  {
   "cell_type": "code",
   "execution_count": null,
   "metadata": {},
   "outputs": [],
   "source": [
    "host_popular = ['Curry', 'Mika', 'Eva', 'Patty', 'Weeraya']\n",
    "df_popular[df_popular['host_name'].isin(host_popular)].groupby(by='host_name')['popularity'].value_counts()"
   ]
  },
  {
   "cell_type": "code",
   "execution_count": null,
   "metadata": {},
   "outputs": [],
   "source": [
    "# Grouping and sorting\n",
    "top_hosts = df_popular.groupby('host_name')['calculated_host_listings_count'].max().sort_values(ascending=False).head(10)\n",
    "\n",
    "# Plotting\n",
    "plt.figure(figsize=(10, 6))\n",
    "sns.barplot(x=top_hosts.values, y=top_hosts.index, palette='viridis')\n",
    "plt.title('Top 10 Hosts by Number of Listings')\n",
    "plt.xlabel('Number of Listings')\n",
    "plt.ylabel('Host Name')\n",
    "plt.tight_layout()\n",
    "plt.show()"
   ]
  },
  {
   "cell_type": "code",
   "execution_count": null,
   "metadata": {},
   "outputs": [],
   "source": [
    "# The 10 least popular hosts based on Airbnb listing number\n",
    "\n",
    "df_popular[df_popular['popularity'] == 'Not Popular'].groupby('host_name').size().sort_values(ascending=False).tail(10)"
   ]
  },
  {
   "cell_type": "markdown",
   "metadata": {},
   "source": [
    "To support the validity of the findings, I also identified the 10 least popular hosts by analyzing the previously defined popularity groups. They tend to have only one listing which indicate that their properties were not professionally managed.\n",
    "\n",
    "Further analysis revealed a clear relationship between these top hosts and the `calculated_listings_count` column. All of the most popular hosts had more than 14 listings, indicating that they are likely professionally managed. This professional management could contribute to greater listing reliability. Additionally, it is plausible that Airbnb’s algorithm favors such hosts due to their established reputation across multiple listings. Additionally, I also performed ANOVA test to check if there is a difference between `host_name` and `popularity`.\n",
    "\n"
   ]
  },
  {
   "cell_type": "code",
   "execution_count": null,
   "metadata": {},
   "outputs": [],
   "source": [
    "from scipy import stats\n",
    "\n",
    "# Step 1: Group values by popularity\n",
    "groups = [group['calculated_host_listings_count'].values \n",
    "          for name, group in df_popular.groupby('popularity')]\n",
    "\n",
    "# Step 2: Run one-way ANOVA\n",
    "f_stat, p_value = stats.f_oneway(*groups)\n",
    "\n",
    "print(\"ANOVA F-statistic:\", f_stat)\n",
    "print(\"p-value:\", p_value)"
   ]
  },
  {
   "cell_type": "markdown",
   "metadata": {},
   "source": [
    "To further analyze this relationship, I classified `host_name` into three categories based on the number of listings they manage: micro (hosts with 4 or fewer listings), medium (hosts with 5 to 13 listings), and macro (hosts with more than 13 listings)."
   ]
  },
  {
   "cell_type": "code",
   "execution_count": null,
   "metadata": {},
   "outputs": [],
   "source": [
    "def classify_host(count):\n",
    "    if count <= 4:\n",
    "        return 'Micro'\n",
    "    elif 5 <= count <= 13:\n",
    "        return 'Medium'\n",
    "    else:\n",
    "        return 'Macro'\n",
    "\n",
    "df_popular['host_type'] = df_popular['calculated_host_listings_count'].apply(classify_host)"
   ]
  },
  {
   "cell_type": "code",
   "execution_count": null,
   "metadata": {},
   "outputs": [],
   "source": [
    "plt.figure(figsize=(10, 6))\n",
    "ax = sns.countplot(data=df_popular, x='host_type', hue='popularity', order=['Macro', 'Medium', 'Micro'])\n",
    "\n",
    "# Add count labels on top of each bar\n",
    "for container in ax.containers:\n",
    "    ax.bar_label(container, label_type='edge', padding=3)\n",
    "    \n",
    "plt.title('Number of Listings by Host Type and Popularity')\n",
    "plt.xlabel('Host Type')\n",
    "plt.ylabel('Number of Listings')\n",
    "plt.legend(title='Popularity')\n",
    "plt.tight_layout()\n",
    "plt.show()"
   ]
  },
  {
   "cell_type": "code",
   "execution_count": null,
   "metadata": {},
   "outputs": [],
   "source": [
    "# Create a crosstab of counts\n",
    "table = pd.crosstab(df_popular['host_type'], df_popular['popularity'])\n",
    "\n",
    "# Perform Chi-Square test\n",
    "chi2, p, dof, expected = chi2_contingency(table)\n",
    "print(f\"Chi-square statistic: {chi2}, p-value: {p}\")\n"
   ]
  },
  {
   "cell_type": "markdown",
   "metadata": {},
   "source": [
    "\n",
    "##### **3.1.2. Room Type Analysis**"
   ]
  },
  {
   "cell_type": "code",
   "execution_count": null,
   "metadata": {},
   "outputs": [],
   "source": [
    "# Checking the number of room based on room type\n",
    "\n",
    "df_popular.groupby(by='room_type')[['name']].count().sort_values(by='name',ascending=False)"
   ]
  },
  {
   "cell_type": "code",
   "execution_count": null,
   "metadata": {},
   "outputs": [],
   "source": [
    "pd.crosstab(df_popular['popularity'], df_popular['room_type'])"
   ]
  },
  {
   "cell_type": "code",
   "execution_count": null,
   "metadata": {},
   "outputs": [],
   "source": [
    "# Count number of listings by room_type and popularity\n",
    "popularity_room_counts = df_popular.groupby(['room_type', 'popularity']).size().unstack().fillna(0)\n",
    "\n",
    "# Plotting\n",
    "popularity_room_counts.plot(kind='bar', stacked=True, figsize=(10,6))\n",
    "\n",
    "plt.xticks(rotation=0)\n",
    "\n",
    "plt.xlabel(\"Room Type\")\n",
    "plt.ylabel(\"Number of Listings\")\n",
    "plt.title(\"Distribution of Listing Popularity by Room Type\")\n",
    "plt.legend(title=\"Popularity\")\n",
    "\n",
    "plt.tight_layout()  # agar label tidak terpotong\n",
    "plt.show()"
   ]
  },
  {
   "cell_type": "markdown",
   "metadata": {},
   "source": [
    "When it comes to room type, customers tend to favor entire homes or apartments, likely because they offer full access to the space and greater privacy. This preference is followed by private rooms, hotel rooms, and lastly, shared rooms."
   ]
  },
  {
   "cell_type": "markdown",
   "metadata": {},
   "source": [
    "##### **3.1.3. Neighbourhood Analysis**"
   ]
  },
  {
   "cell_type": "code",
   "execution_count": null,
   "metadata": {},
   "outputs": [],
   "source": [
    "# Checking which neighbourhood that is very popular\n",
    "\n",
    "df_popular[df_popular['popularity'] == 'Very Popular'].groupby('neighbourhood').size().sort_values(ascending=False).head(10)"
   ]
  },
  {
   "cell_type": "code",
   "execution_count": null,
   "metadata": {},
   "outputs": [],
   "source": [
    "neighbourhood_popular = ['Vadhana', 'Khlong Toei', 'Huai Khwang', 'Ratchathewi', 'Bang Rak']\n",
    "df_popular[df_popular['neighbourhood'].isin(neighbourhood_popular)].groupby(by='neighbourhood')['popularity'].value_counts()"
   ]
  },
  {
   "cell_type": "code",
   "execution_count": null,
   "metadata": {},
   "outputs": [],
   "source": [
    "# Checking the proportion of those 5 very popular neighboourhood based on the number of total listings in those neighbourhood\n",
    "\n",
    "(df_popular[(df_popular['neighbourhood'].isin(neighbourhood_popular)) & (df_popular['popularity'] == 'Very Popular')].groupby('neighbourhood').size().div(df_popular[df_popular['neighbourhood'].isin(neighbourhood_popular)].groupby('neighbourhood').size()).sort_values(ascending=False))"
   ]
  },
  {
   "cell_type": "code",
   "execution_count": null,
   "metadata": {},
   "outputs": [],
   "source": [
    "# Cheking the proportion of each neighbourhood based on popularity\n",
    "\n",
    "(df_popular[df_popular['popularity'] == 'Very Popular'].groupby('neighbourhood').size() / df_popular.groupby('neighbourhood').size()).sort_values(ascending=False).head(10)\n"
   ]
  },
  {
   "cell_type": "code",
   "execution_count": null,
   "metadata": {},
   "outputs": [],
   "source": [
    "# Checking the number of room based on neighbourhood\n",
    "\n",
    "df_popular.groupby(by='neighbourhood')[['name']].count().sort_values(by='name',ascending=False).head(10)"
   ]
  },
  {
   "cell_type": "markdown",
   "metadata": {},
   "source": [
    "Based on the categorical vs. categorical analysis, we can conclude that `neighbourhood`, `host_name`, and `room_type` all influence a listing’s popularity. The top 10 neighbourhoods have been highlighted in the pivot table above. Furthermore, hosts with multiple listings tend to attract more traffic, likely due to greater visibility and perceived reliability. In addition, the data shows that customers generally prefer to book entire apartments for their stay."
   ]
  },
  {
   "cell_type": "markdown",
   "metadata": {},
   "source": [
    "When comparing all three dataframes, it becomes clear that Curry consistently stands out as the top host. This is likely due to his large number of listings, which enhances both his visibility and credibility. The top six neighbourhoods remain consistent across all datasets, with the exception of listings with more than six entries, where Phra Khanong and Bang Na show slight differences. In terms of room type, the pattern remains stable across all dataframes—guests consistently prefer entire home/apartment stays."
   ]
  },
  {
   "cell_type": "markdown",
   "metadata": {},
   "source": [
    "##### **3.1.4. Recommended Neighbourhood Expansion Analysis**\n",
    "\n",
    "To recommend areas for Airbnb listing expansion, I focused on identifying neighborhoods with high demand but low supply of Airbnb properties. This was done by comparing occupancy rates and the total number of listings across different areas.\n",
    "\n",
    "To enable this comparison, I applied min-max normalization to rescale the data to a range of 0 to 1 (Han, Pei, & Kamber, 2011)."
   ]
  },
  {
   "cell_type": "code",
   "execution_count": null,
   "metadata": {},
   "outputs": [],
   "source": [
    "# 1. Grouping data by neighbourhood\n",
    "grouped = df_popular.groupby('neighbourhood').agg({\n",
    "    'occupancy_rate': 'median',\n",
    "    'id': 'count'\n",
    "}).reset_index()\n",
    "\n",
    "# 2. Rename for clarity\n",
    "grouped.rename(columns={\n",
    "    'occupancy_rate': 'Median Occupancy Rate',\n",
    "    'id': 'Listing Count'\n",
    "}, inplace=True)\n",
    "\n",
    "# 3. Normalisasi ke 0–1\n",
    "grouped['Normalized Occupancy Rate'] = (\n",
    "    grouped['Median Occupancy Rate'] - grouped['Median Occupancy Rate'].min()\n",
    ") / (\n",
    "    grouped['Median Occupancy Rate'].max() - grouped['Median Occupancy Rate'].min()\n",
    ")\n",
    "\n",
    "grouped['Normalized Listing Count'] = (\n",
    "    grouped['Listing Count'] - grouped['Listing Count'].min()\n",
    ") / (\n",
    "    grouped['Listing Count'].max() - grouped['Listing Count'].min()\n",
    ")\n",
    "\n",
    "# 4. Urutkan berdasarkan Occupancy Rate tertinggi\n",
    "grouped_sorted = grouped.sort_values(by='Normalized Occupancy Rate', ascending=False).reset_index(drop=True)\n",
    "\n",
    "# 5. Plot\n",
    "x = grouped_sorted['neighbourhood']\n",
    "x_indexes = range(len(x))\n",
    "width = 0.35\n",
    "\n",
    "plt.figure(figsize=(14,6))\n",
    "plt.bar(\n",
    "    [i - width/2 for i in x_indexes],\n",
    "    grouped_sorted['Normalized Occupancy Rate'],\n",
    "    width=width,\n",
    "    label='Occupancy Rate (Normalized)'\n",
    ")\n",
    "plt.bar(\n",
    "    [i + width/2 for i in x_indexes],\n",
    "    grouped_sorted['Normalized Listing Count'],\n",
    "    width=width,\n",
    "    label='Listing Count (Normalized)'\n",
    ")\n",
    "\n",
    "plt.xticks(ticks=x_indexes, labels=x, rotation=45, ha='right')\n",
    "plt.ylabel(\"Normalized Value (0–1)\")\n",
    "plt.xlabel(\"Neighbourhood\")\n",
    "plt.title(\"Normalized Occupancy Rate & Listing Count by Neighbourhood (Sorted by Occupancy Rate)\")\n",
    "plt.legend()\n",
    "plt.tight_layout()\n",
    "plt.show()"
   ]
  },
  {
   "cell_type": "markdown",
   "metadata": {},
   "source": [
    "**Insight**: Based on above visual inspection, I can conclude that we can perform Airbnb listing expansion (Neighbourhood-Level) based on the analysis of normalized occupancy rate vs listing count:\n",
    "\n",
    "**Top Neighbourhoods for Expansion**\n",
    "\n",
    "These areas show high demand (occupancy) but low supply (few listings):\n",
    "\n",
    "- Thawi Watthana — Above-average occupancy, low listing count, offers local charm and peaceful stays\n",
    "- Nong Chok — Highest occupancy with very few listings, major opportunity for eco-tourism and retreats\n",
    "- Khan Na Yao — Strong occupancy and low supply, good for family-friendly stays near malls and parks\n",
    "- Wang Thong Lang — Solid demand in a student- and local-friendly area, still underdeveloped for Airbnb\n",
    "- Bang Sue — High occupancy with major transport growth (Bang Sue Grand Station), ideal for early entry\n",
    "- Samphanthawong — Strong tourist appeal in historic Chinatown, listing count still manageable\n",
    "\n",
    "Other promising areas for expansion:\n",
    "\n",
    "- Huai Khwang — Strong demand with limited Airbnb properties\n",
    "- Khlong Toei — High demand, moderate listings, good long-term potential\n",
    "- Bang Phlat — Riverside charm, low competition, appealing for longer stays\n",
    "- Phra Khanong — Popular with young travelers and remote workers, still room to grow\n",
    "- Phaya Thai — Transit-friendly, ideal for short-stay visitors, underutilized potential\n",
    "- Ratchathewi — Central location with consistent demand, but less Airbnb saturation than neighbors\n",
    "\n",
    "**Avoid for Now**: Areas with low occupancy but many listings, like Chatuchak or Pathum Wan, may be saturated or declining in demand."
   ]
  },
  {
   "cell_type": "code",
   "execution_count": null,
   "metadata": {},
   "outputs": [],
   "source": [
    "# Define target areas\n",
    "target_areas = [\n",
    "    'Bang Sue', 'Samphanthawong', 'Bang Phlat',\n",
    "    'Phra Khanong', 'Phaya Thai', 'Ratchathewi',\n",
    "    'Huai Khwang', 'Khlong Toei', 'Huai Khwang', \n",
    "    'Khlong Toei', 'Phra Khanong' 'Thawi Watthana',\n",
    "    'Nang Chok', 'Khan Na Yao', 'Wang Thong Lang', \n",
    "    'Samphanthawong'\n",
    "]\n",
    "\n",
    "# Filter to only target areas\n",
    "df_target = df_popular[df_popular['neighbourhood'].isin(target_areas)]\n",
    "\n",
    "# Group by neighbourhood to count listings and calculate average occupancy rate\n",
    "result = df_target.groupby('neighbourhood').agg(\n",
    "    listing_count=('id', 'count'),\n",
    "    occupancy_rate=('occupancy_rate', 'mean')\n",
    ").reset_index()\n",
    "\n",
    "# Sort from highest to lowest occupancy rate\n",
    "result_sorted = result.sort_values(by='occupancy_rate', ascending=False).reset_index(drop=True)\n",
    "\n",
    "result_sorted"
   ]
  },
  {
   "cell_type": "code",
   "execution_count": null,
   "metadata": {},
   "outputs": [],
   "source": [
    "# Adding two columns in the dataset. These columns are important for Tableau dashboard visualization\n",
    "\n",
    "df_popular = df_popular.merge(\n",
    "    grouped[['neighbourhood', 'Normalized Occupancy Rate', 'Normalized Listing Count']],\n",
    "    on='neighbourhood',\n",
    "    how='left'\n",
    ")"
   ]
  },
  {
   "cell_type": "markdown",
   "metadata": {},
   "source": [
    "##### ||| Additional Columns for Airbnb Analysis\n",
    "\n",
    "To further support deeper insights from the Airbnb dataset, two columns were created:\n",
    "\n",
    "- `Normalized Occupancy Rate` & `Normalized Listing Count` (Numerical Variables)\n",
    "\n",
    "These two columns were merged from an aggregated dataset grouped by neighbourhood, providing standardized values for:\n",
    "\n",
    "- `Normalized Occupancy Rate`: The median occupancy of each neighborhood, normalized to a 0–1 scale.\n",
    "- `Normalized Listing Count`: The total number of listings in each neighborhood, also normalized to 0–1.\n",
    "\n",
    "These features enabled fair comparisons across neighborhoods regardless of size or scale."
   ]
  },
  {
   "cell_type": "markdown",
   "metadata": {},
   "source": [
    "#### **3.2. Numerical Variable Test vs Popularity**\n",
    "\n",
    "Having completed the analysis of categorical variables, we now turn to exploring numerical variables versus popularity. For this part of the analysis, we focus on the following variables:\n",
    "\n",
    "1. Price – to examine the overall price distribution and how it relates to popularity levels.\n",
    "2. Minimum nights – to gain insights into customer preferences for short-term versus long-term stays.\n",
    "3. Number of reviews – to explore whether there's a correlation between the number of reviews and a listing’s popularity."
   ]
  },
  {
   "cell_type": "code",
   "execution_count": null,
   "metadata": {},
   "outputs": [],
   "source": [
    "# Select only numerical columns from the dataset\n",
    "numerik = df_popular.select_dtypes(include='number')\n",
    "\n",
    "# From those, filter for specific columns that are most relevant for analysis\n",
    "numerik = numerik[['price',                 # Price per night in Baht\n",
    "                   'minimum_nights',        # Minimum number of nights required per booking\n",
    "                   'number_of_reviews',     # Total number of reviews received by the listing\n",
    "                   'availability_365',      # Number of days the listing is available in a year\n",
    "                   'occupancy_rate',        # Estimated occupancy percentage based on availability\n",
    "                   'popularity_score']]     # Popularity encoded numerically (e.g., 1 = Not Popular, 4 = Very Popular)\n",
    "\n",
    "# Show the resulting DataFrame\n",
    "numerik"
   ]
  },
  {
   "cell_type": "code",
   "execution_count": null,
   "metadata": {},
   "outputs": [],
   "source": [
    "# Select integer-type columns\n",
    "test_histogram = numerik\n",
    "\n",
    "# Calculate the number of rows and columns needed for subplots\n",
    "num_cols = 3\n",
    "num_rows = -(-len(test_histogram.columns) // num_cols)  # Ceiling division to ensure enough rows for all columns\n",
    "\n",
    "# Set up subplots\n",
    "fig, axs = plt.subplots(num_rows, num_cols, figsize=(15, 5*num_rows))  # Adjust figsize based on the number of rows\n",
    "\n",
    "# Iterate over each column and plot histogram\n",
    "for idx, column in enumerate(test_histogram.columns):\n",
    "    row = idx // num_cols\n",
    "    col = idx % num_cols\n",
    "    axs[row, col].hist(test_histogram[column], bins=10)\n",
    "    axs[row, col].set_title(f'Histogram of {column}')\n",
    "    axs[row, col].set_xlabel(column)\n",
    "    axs[row, col].set_ylabel('Frequency')\n",
    "\n",
    "# Remove any unused subplots\n",
    "for idx in range(len(test_histogram.columns), num_rows*num_cols):\n",
    "    row = idx // num_cols\n",
    "    col = idx % num_cols\n",
    "    axs[row, col].axis('off')\n",
    "\n",
    "plt.tight_layout()\n",
    "plt.show()"
   ]
  },
  {
   "cell_type": "code",
   "execution_count": null,
   "metadata": {},
   "outputs": [],
   "source": [
    "# Performing normality test for each variable to determine the suitable statistical test to do.\n",
    "\n",
    "from scipy.stats import kstest, norm\n",
    "\n",
    "for col in ['price', 'minimum_nights', 'number_of_reviews', 'availability_365', 'occupancy_rate']:\n",
    "    standardized = (df_popular[col] - df_popular[col].mean()) / df_popular[col].std()\n",
    "    stat, p = kstest(standardized, 'norm')\n",
    "    print(f\"{col}: KS={stat:.4f}, p-value={p:.4e}\")\n",
    "    if p < 0.05:\n",
    "        print(\" → Not normally distributed\\n\")\n",
    "    else:\n",
    "        print(\" → Likely normally distributed\\n\")"
   ]
  },
  {
   "cell_type": "markdown",
   "metadata": {},
   "source": [
    "The histogram and normality test (Kolmogorov-Smirnov test) above reveals several key insights:\n",
    "\n",
    "1. None of the variables follow a normal distribution.\n",
    "2. The majority of listings are priced between 250 and 1800 baht.\n",
    "3. Minimum night stays offered range from 1 to 365 nights.\n",
    "4. Most listings have between 0 and 100 reviews.\n",
    "5. It’s highly likely that many hosts manage more than one listing."
   ]
  },
  {
   "cell_type": "code",
   "execution_count": null,
   "metadata": {},
   "outputs": [],
   "source": [
    "# Compute Spearman correlation\n",
    "corr = numerik.corr(method='spearman')\n",
    "\n",
    "# Plot heatmap\n",
    "plt.figure(figsize=(8, 6))\n",
    "sns.heatmap(corr, annot=True, cmap='coolwarm', fmt=\".2f\", linewidths=0.5)\n",
    "plt.title('Spearman Correlation Heatmap')\n",
    "plt.tight_layout()\n",
    "plt.show()"
   ]
  },
  {
   "cell_type": "markdown",
   "metadata": {},
   "source": [
    "The Spearman correlation heatmap above shows the strength and direction of monotonic relationships between six numeric variables in the Airbnb dataset: `price, minimum_nights, number_of_reviews, availability_365, occupancy_rate`, and `popularity_score`.\n",
    "\n",
    "From the heatmap, we can observe that `availability_365` has a perfect negative correlation (-1.00) with `occupancy_rate` and a very strong negative correlation (-0.91) with `popularity_score`. This makes sense because a lower availability value typically reflects more bookings, which results in higher occupancy and popularity.\n",
    "\n",
    "Conversely, `occupancy_rate` and `popularity_score` are perfectly and strongly positively correlated (0.91), reinforcing the assumption that listings with higher occupancy rates tend to be more popular.\n",
    "\n",
    "Other variables such as `price, minimum_nights`, and `number_of_reviews` show weak or negligible correlations with popularity or occupancy. For example, price has very low correlation (around 0.02) with both `popularity_score` and `occupancy_rate`, suggesting that price alone does not significantly influence popularity in this dataset.\n",
    "\n",
    "In conclusion, the strongest relationships are found among availability, occupancy, and popularity, while price and number of reviews show weaker effects. These insights highlight the importance of managing availability and occupancy strategically to boost listing popularity."
   ]
  },
  {
   "cell_type": "markdown",
   "metadata": {},
   "source": [
    "##### **3.2.1. Price Analysis**\n",
    "\n",
    "**Question**: What price range remains competitive while maximizing profitability?\n",
    "\n",
    "The price variable is influenced by multiple factors. Therefore, it is essential to examine potential correlations with other numerical variables. Alternatively, price may exhibit a stronger association with specific categorical variables (e.g., popularity), which will also be explored.\n"
   ]
  },
  {
   "cell_type": "code",
   "execution_count": null,
   "metadata": {},
   "outputs": [],
   "source": [
    "# Overall Price Distribution\n",
    "\n",
    "# Define bins for price distribution\n",
    "bins = np.arange(0, df_popular['price'].max() + 500, 500)  # e.g., 0 to max price, step of 500 Baht\n",
    "\n",
    "plt.figure(figsize=(12, 6))\n",
    "\n",
    "# Plotting lineplot of price distribution per popularity group\n",
    "for label, group in df_popular.groupby('popularity'):\n",
    "    counts, _ = np.histogram(group['price'], bins=bins)\n",
    "    sns.lineplot(x=bins[:-1], y=counts, label=label)\n",
    "\n",
    "plt.title(\"Price Distribution by Popularity Group\")\n",
    "plt.xlabel(\"Price (Baht)\")\n",
    "plt.ylabel(\"Number of Listings\")\n",
    "plt.legend(title=\"Popularity\")\n",
    "plt.tight_layout()\n",
    "plt.show()"
   ]
  },
  {
   "cell_type": "markdown",
   "metadata": {},
   "source": [
    "The majority of listings fall into the \"Not Popular\" group, especially those priced between 500–1,500 Baht. This shows that competitive pricing alone doesn't ensure popularity—other factors like host quality and reviews matter.\n",
    "\n",
    "\"Popular\" and \"Very Popular\" listings are mostly in the 500–2,000 Baht range, suggesting that balanced pricing works best. Listings above 3,000 Baht are rare and often underperform, likely due to reduced visibility and demand. Meanwhile, \"Less Popular\" listings are few across all price points, possibly due to poor positioning or lack of exposure."
   ]
  },
  {
   "cell_type": "code",
   "execution_count": null,
   "metadata": {},
   "outputs": [],
   "source": [
    "# 1. Filter data\n",
    "filtered_df_1 = df_popular[df_popular['popularity'].isin(['Popular', 'Very Popular'])]\n",
    "filtered_df_2 = df_popular[df_popular['popularity'].isin(['Less Popular', 'Not Popular'])]\n",
    "\n",
    "# 2. Define price bins (up to 95th percentile)\n",
    "bins1 = np.linspace(0, filtered_df_1['price'].quantile(0.95), 50)\n",
    "bins2 = np.linspace(0, filtered_df_2['price'].quantile(0.95), 50)\n",
    "\n",
    "plt.figure(figsize=(15, 5))\n",
    "\n",
    "# 3. Line chart for Popular & Very Popular listings\n",
    "plt.subplot(1, 2, 1)\n",
    "for label in ['Popular', 'Very Popular']:\n",
    "    group = filtered_df_1[filtered_df_1['popularity'] == label]\n",
    "    counts, _ = np.histogram(group['price'], bins=bins1)\n",
    "    sns.lineplot(x=bins1[:-1], y=counts, label=label)\n",
    "plt.title('Price Distribution (Popular & Very Popular)')\n",
    "plt.xlabel('Price in Baht')\n",
    "plt.ylabel('Frequency')\n",
    "\n",
    "# 4. Line chart for Less Popular & Not Popular listings\n",
    "plt.subplot(1, 2, 2)\n",
    "for label in ['Less Popular', 'Not Popular']:\n",
    "    group = filtered_df_2[filtered_df_2['popularity'] == label]\n",
    "    counts, _ = np.histogram(group['price'], bins=bins2)\n",
    "    sns.lineplot(x=bins2[:-1], y=counts, label=label)\n",
    "plt.title('Price Distribution (Less Popular & Not Popular)')\n",
    "plt.xlabel('Price in Baht')\n",
    "plt.ylabel('Frequency')\n",
    "\n",
    "plt.tight_layout()\n",
    "plt.show()"
   ]
  },
  {
   "cell_type": "code",
   "execution_count": null,
   "metadata": {},
   "outputs": [],
   "source": [
    "\n",
    "\n",
    "# Segment 1: Popular & Very Popular\n",
    "popular_df = df_popular[df_popular['popularity'].isin(['Popular', 'Very Popular'])]\n",
    "\n",
    "# Segment 2: Less Popular & Not Popular\n",
    "unpopular_df = df_popular[df_popular['popularity'].isin(['Less Popular', 'Not Popular'])]\n",
    "\n",
    "# Define common price bins (based on 95th percentile of entire dataset)\n",
    "bins = np.linspace(0, df_popular['price'].quantile(0.95), 50)\n",
    "\n",
    "plt.figure(figsize=(15, 5))\n",
    "\n",
    "# 1. Line chart for Popular + Very Popular\n",
    "plt.subplot(1, 2, 1)\n",
    "for label, group in popular_df.groupby('room_type'):\n",
    "    counts, _ = np.histogram(group['price'], bins=bins)\n",
    "    sns.lineplot(x=bins[:-1], y=counts, label=label)\n",
    "plt.title('Price Distribution by Room Type (Popular & Very Popular)')\n",
    "plt.xlabel('Price in Baht')\n",
    "plt.ylabel('Frequency')\n",
    "\n",
    "# 2. Line chart for Less Popular + Not Popular\n",
    "plt.subplot(1, 2, 2)\n",
    "for label, group in unpopular_df.groupby('room_type'):\n",
    "    counts, _ = np.histogram(group['price'], bins=bins)\n",
    "    sns.lineplot(x=bins[:-1], y=counts, label=label)\n",
    "plt.title('Price Distribution by Room Type (Less Popular & Not Popular)')\n",
    "plt.xlabel('Price in Baht')\n",
    "plt.ylabel('Frequency')\n",
    "\n",
    "plt.tight_layout()\n",
    "plt.show()\n"
   ]
  },
  {
   "cell_type": "markdown",
   "metadata": {},
   "source": [
    "From above visual inspection, we can conclude that:\n",
    "\n",
    "1. When comparing the general price distribution and price distribution grouped by room type, the price fall within a similar price range of 500 to 1500 baht. However, the most frequent price point for popular listings is above 1,000 baht, whereas for general price distribution, it is below 2,000 baht.\n",
    "2. Analyzing the room types reveals that entire homes or apartments are typically priced between 750 and 1800 baht. Private rooms tend to fall in the 500 to 1200 baht range, hotel rooms range from 800 to 1800 baht, and shared rooms are generally priced between 278 and 700 baht.\n",
    "3. Moreover, popularity data suggests that guests strongly prefer entire homes or apartments, even at higher prices, as long as they have access to the whole property."
   ]
  },
  {
   "cell_type": "code",
   "execution_count": null,
   "metadata": {},
   "outputs": [],
   "source": [
    "len(df_popular[(df_popular['price'] > 4000) & (df_popular['occupancy_rate'] == 0)])"
   ]
  },
  {
   "cell_type": "markdown",
   "metadata": {},
   "source": [
    "Other price insight:\n",
    "\n",
    "- Some high-priced properties suffer from low occupancy rates (not popular)\n",
    "- Overpricing leads to reduced visibility in search results\n",
    "- This results in lower traffic and fewer bookings, regardless of listing quality\n",
    "- Many of these listings fall outside the optimal price range observed in popular listings\n",
    "- Looking at the details: there were 150 Airbnb properties with price higher than 4,000 Baht that have 0 occupancy rates. This means that no customer book that properties in a year. "
   ]
  },
  {
   "cell_type": "markdown",
   "metadata": {},
   "source": [
    "##### **||| Recommended Prices**"
   ]
  },
  {
   "cell_type": "markdown",
   "metadata": {},
   "source": [
    "Based on above analysis, we created a recommended prices by grouping listings based on neighbourhood and room type to reflect the unique market conditions in each area. By calculating the interquartile range (IQR) for prices within each group, we can identify a reasonable minimum, median, and maximum price that excludes extreme outliers. \n",
    "\n",
    "This method ensures pricing is based on actual market behavior rather than arbitrary averages. It helps hosts avoid overpricing—which can reduce visibility and bookings—and underpricing, which may lower revenue despite high demand. Ultimately, this approach supports strategic, data-driven pricing tailored to local competition and guest expectations."
   ]
  },
  {
   "cell_type": "code",
   "execution_count": null,
   "metadata": {},
   "outputs": [],
   "source": [
    "harga = df_popular[['neighbourhood', 'price', 'room_type']] # only taking 3 columns: neighbourhood, price, and room_type"
   ]
  },
  {
   "cell_type": "code",
   "execution_count": null,
   "metadata": {},
   "outputs": [],
   "source": [
    "# Calculating Q1 dan Q3\n",
    "\n",
    "q1 = harga['price'].quantile(0.25)\n",
    "q3 = harga['price'].quantile(0.75)\n",
    "iqr = q3 - q1\n",
    "\n",
    "# Setting lower and upper bound for the data\n",
    "lower_bound = q1 - 1.5 * iqr\n",
    "upper_bound = q3 + 1.5 * iqr\n",
    "\n",
    "# Filtering only normal data\n",
    "harga_normal = harga[(harga['price'] >= lower_bound) & (harga['price'] <= upper_bound)]\n"
   ]
  },
  {
   "cell_type": "code",
   "execution_count": null,
   "metadata": {},
   "outputs": [],
   "source": [
    "def calculate_iqr_bounds(group):\n",
    "    q1 = group['price'].quantile(0.25)\n",
    "    q3 = group['price'].quantile(0.75)\n",
    "    iqr = q3 - q1\n",
    "    lower_bound = q1 - 1.5 * iqr\n",
    "    actual_min_price = group['price'].min()\n",
    "\n",
    "    return pd.Series({\n",
    "        'iqr_lower_bound': max(lower_bound, actual_min_price),\n",
    "        'iqr_median_price': group['price'].median(),\n",
    "        'iqr_upper_bound': q3 + 1.5 * iqr\n",
    "    })\n",
    "\n",
    "iqr_price = (\n",
    "    harga_normal\n",
    "    .groupby(['neighbourhood', 'room_type'], group_keys=False)\n",
    "    .apply(calculate_iqr_bounds)\n",
    "    .reset_index()\n",
    ")\n",
    "\n",
    "iqr_price"
   ]
  },
  {
   "cell_type": "code",
   "execution_count": null,
   "metadata": {},
   "outputs": [],
   "source": [
    "harga = harga.merge(iqr_price, on=['neighbourhood', 'room_type'], how='left')\n",
    "\n",
    "df_popular = df_popular.merge(iqr_price, on=['neighbourhood', 'room_type'], how='left')\n"
   ]
  },
  {
   "cell_type": "code",
   "execution_count": null,
   "metadata": {},
   "outputs": [],
   "source": [
    "# Recommended price for each neighbourhood and room type\n",
    "\n",
    "harga.to_csv('RecommendedPrice.csv', index=False)"
   ]
  },
  {
   "cell_type": "markdown",
   "metadata": {},
   "source": [
    "**Note**: This recommended price is not a rigid measurement; rather, it should be tailored to various factors such as room type, neighborhood condition and popularity, minimum night bookings, occupancy rate, and listing popularity or reviews. These elements help ensure pricing remains competitive, reflects market demand, and supports both visibility and profitability."
   ]
  },
  {
   "cell_type": "markdown",
   "metadata": {},
   "source": [
    "##### **3.2.2. Folium of Recommended Price**\n",
    "\n",
    "In this part, I created a map visualization of Airbnb price distribution in Bangkok using Folium.\n",
    "\n",
    "Each marker on the map represents an individual listing and displays the neighbourhood, room type, actual price, minimum price (based on IQR by neighbourhood and room type), median price, and maximum price.\n",
    "\n",
    "This allows users to spatially compare actual listing prices to their expected range, making it easier to identify overpriced listings, undervalued opportunities, and neighborhoods with concentrated pricing tiers.\n",
    "\n",
    "Overall, the map provides a geographical overview that supports better pricing strategies and location-based analysis."
   ]
  },
  {
   "cell_type": "code",
   "execution_count": null,
   "metadata": {},
   "outputs": [],
   "source": [
    "import folium\n",
    "from folium.plugins import MarkerCluster\n",
    "import pandas as pd\n",
    "\n",
    "# Assuming your DataFrame is named df_popular and contains necessary columns\n",
    "# Including: latitude, longitude, neighbourhood, room_type, price, iqr_lower_bound, iqr_median_price, iqr_upper_bound\n",
    "\n",
    "# Create base map centered on Bangkok\n",
    "m = folium.Map(location=[13.7563, 100.5018], zoom_start=11)\n",
    "\n",
    "# Add marker clustering\n",
    "marker_cluster = MarkerCluster().add_to(m)\n",
    "\n",
    "# Loop through the data to add markers\n",
    "for idx, row in df_popular.iterrows():\n",
    "    popup_text = f\"\"\"\n",
    "    <b>Neighbourhood:</b> {row['neighbourhood']}<br>\n",
    "    <b>Room Type:</b> {row['room_type']}<br>\n",
    "    <b>Actual Price:</b> {row['price']} Baht<br>\n",
    "    <b>Min Price:</b> {row['iqr_lower_bound']} Baht<br>\n",
    "    <b>Median Price:</b> {row['iqr_median_price']} Baht<br>\n",
    "    <b>Max Price:</b> {row['iqr_upper_bound']} Baht\n",
    "    \"\"\"\n",
    "    folium.Marker(\n",
    "        location=[row['latitude'], row['longitude']],\n",
    "        popup=folium.Popup(popup_text, max_width=300),\n",
    "        icon=folium.Icon(color='blue', icon='home', prefix='fa')\n",
    "    ).add_to(marker_cluster)\n",
    "\n",
    "# Show map\n",
    "m\n"
   ]
  },
  {
   "cell_type": "markdown",
   "metadata": {},
   "source": [
    "##### **3.2.3. Review Analysis**"
   ]
  },
  {
   "cell_type": "code",
   "execution_count": 243,
   "metadata": {},
   "outputs": [
    {
     "data": {
      "image/png": "[encoded data removed]",
      "text/plain": [
       "<Figure size 1000x500 with 1 Axes>"
      ]
     },
     "metadata": {},
     "output_type": "display_data"
    }
   ],
   "source": [
    "plt.figure(figsize=(10, 5))\n",
    "\n",
    "# Define bins for number_of_reviews\n",
    "bins = np.linspace(0, df_popular['number_of_reviews'].max(), 20)\n",
    "\n",
    "# Plot for each popularity group\n",
    "for label in df_popular['popularity'].unique():\n",
    "    group = df_popular[df_popular['popularity'] == label]\n",
    "    counts, _ = np.histogram(group['number_of_reviews'], bins=bins)\n",
    "    sns.lineplot(x=bins[:-1], y=counts, label=label)\n",
    "\n",
    "plt.title(\"Line Chart of Number of Reviews in Popularity Groups\")\n",
    "plt.xlabel(\"Number of Reviews\")\n",
    "plt.ylabel(\"Frequency\")\n",
    "plt.legend(title=\"Popularity\")\n",
    "plt.tight_layout()\n",
    "plt.show()\n"
   ]
  },
  {
   "cell_type": "markdown",
   "metadata": {},
   "source": [
    "Because the number of reviews appeared to be correlated with occupancy rate, I explored whether an increase in reviews could lead to higher occupancy. To investigate this, I conducted a regression analysis using `log(number_of_reviews)` as the independent variable and `occupancy_rate` as the dependent variable. The results show a statistically significant positive relationship: as the number of reviews increases, occupancy rate tends to increase as well. Specifically, the model estimates that a one-unit increase in the log of reviews corresponds to an average increase of 3.46 percentage points in occupancy rate. However, the model’s R-squared value is relatively low (0.025), indicating that reviews alone explain only a small portion of the variation in occupancy. This suggests that while guest reviews play a meaningful role, other factors—such as price, host type, and listing quality—are likely also important in driving occupancy performance."
   ]
  },
  {
   "cell_type": "code",
   "execution_count": null,
   "metadata": {},
   "outputs": [],
   "source": [
    "import statsmodels.api as sm\n",
    "\n",
    "# Add 1 to avoid log(0)\n",
    "df_popular['log_reviews'] = np.log1p(df_popular['number_of_reviews'])\n",
    "\n",
    "X = sm.add_constant(df_popular['log_reviews'])  # predictor\n",
    "y = df_popular['occupancy_rate']                # response\n",
    "\n",
    "model = sm.OLS(y, X).fit()\n",
    "print(model.summary())\n"
   ]
  },
  {
   "cell_type": "markdown",
   "metadata": {},
   "source": [
    "After that, we conducted a one-way ANOVA test to examine whether the average number of reviews differed significantly across the four popularity categories. The results revealed a statistically significant difference (*F* = 34.01, *p* < 0.001), indicating that at least one group’s average number of reviews is different from the others. This suggests that popularity level is indeed associated with review count—listings that are more popular tend to have accumulated more reviews, while less popular ones receive fewer."
   ]
  },
  {
   "cell_type": "code",
   "execution_count": null,
   "metadata": {},
   "outputs": [],
   "source": [
    "groups = [group['number_of_reviews'].values for name, group in df_popular.groupby('popularity')]\n",
    "f_stat, p_value = stats.f_oneway(*groups)\n",
    "print(\"ANOVA F-statistic:\", f_stat)\n",
    "print(\"p-value:\", p_value)"
   ]
  },
  {
   "cell_type": "markdown",
   "metadata": {},
   "source": [
    "Following the ANOVA, we performed a Tukey HSD post-hoc test to determine which popularity categories differed significantly in their average number of reviews. The results show that all pairwise comparisons are statistically significant (*p* < 0.01), indicating consistent differences across all levels of popularity. \n",
    "\n",
    "For instance, listings in the \"Not Popular\" group had, on average, 11.87 more reviews than those in the \"Less Popular\" group, and \"Very Popular\" listings had significantly more reviews than \"Popular\" and \"Less Popular\" listings. These findings confirm that the number of reviews increases in line with popularity, reinforcing the idea that guest feedback plays a key role in enhancing listing visibility and success."
   ]
  },
  {
   "cell_type": "code",
   "execution_count": null,
   "metadata": {},
   "outputs": [],
   "source": [
    "from statsmodels.stats.multicomp import pairwise_tukeyhsd\n",
    "\n",
    "# Perform Tukey's HSD test\n",
    "tukey_result = pairwise_tukeyhsd(endog=df_popular['number_of_reviews'],\n",
    "                                 groups=df_popular['popularity'],\n",
    "                                 alpha=0.05)\n",
    "\n",
    "# Print the summary\n",
    "print(tukey_result)"
   ]
  },
  {
   "cell_type": "markdown",
   "metadata": {},
   "source": [
    "Many listings have zero reviews (5,425 listings do not have any review at all)"
   ]
  },
  {
   "cell_type": "code",
   "execution_count": null,
   "metadata": {},
   "outputs": [],
   "source": [
    "df_popular[df_popular['number_of_reviews'] == 0]"
   ]
  },
  {
   "cell_type": "code",
   "execution_count": null,
   "metadata": {},
   "outputs": [],
   "source": [
    "df_popular[df_popular['number_of_reviews'] == 0] \\\n",
    "    .groupby('popularity') \\\n",
    "    .size() \\\n",
    "    .sort_values(ascending=False)"
   ]
  },
  {
   "cell_type": "markdown",
   "metadata": {},
   "source": [
    "##### **3.2.4. Minimum Nights Analysis**\n",
    "\n",
    "The minimum nights variable plays a critical role in determining booking flexibility, guest accessibility, and overall occupancy. Listings with longer minimum stay requirements often limit potential guests—especially short-term travelers, weekend visitors, or business guests—who seek brief and flexible accommodation options.\n",
    "\n",
    "From an analytical perspective, minimum nights can significantly influence occupancy rate and revenue performance. Properties with shorter minimum stays tend to have higher booking frequency and visibility in search results, while those with longer minimums may struggle to attract bookings unless they offer unique value or target niche markets (e.g., long-term stays or families).\n",
    "\n",
    "Understanding how minimum night policies correlate with occupancy and popularity helps hosts and platforms optimize listing performance and better align with traveler behavior."
   ]
  },
  {
   "cell_type": "code",
   "execution_count": 244,
   "metadata": {},
   "outputs": [
    {
     "data": {
      "image/png": "[encoded data removed]",
      "text/plain": [
       "<Figure size 800x500 with 1 Axes>"
      ]
     },
     "metadata": {},
     "output_type": "display_data"
    }
   ],
   "source": [
    "# Set order if needed\n",
    "popularity_order = ['Not Popular', 'Less Popular', 'Popular', 'Very Popular']\n",
    "\n",
    "# Calculate median minimum nights by popularity\n",
    "median_min_nights = df_popular.groupby('popularity')['minimum_nights'].median().reindex(popularity_order)\n",
    "\n",
    "# Plot\n",
    "plt.figure(figsize=(8, 5))\n",
    "sns.lineplot(x=median_min_nights.index, y=median_min_nights.values, marker='o')\n",
    "plt.title('Median Minimum Nights by Popularity')\n",
    "plt.xlabel('Popularity')\n",
    "plt.ylabel('Median Minimum Nights')\n",
    "plt.tight_layout()\n",
    "plt.show()\n"
   ]
  },
  {
   "cell_type": "code",
   "execution_count": null,
   "metadata": {},
   "outputs": [],
   "source": [
    "print(\"The median value for df_popular['minimum_nights'] is\", df_popular['minimum_nights'].median())\n",
    "print(\"The median value for df_reviewLTM['minimum_nights'] is\", df_reviewLTM['minimum_nights'].median())"
   ]
  },
  {
   "cell_type": "code",
   "execution_count": null,
   "metadata": {},
   "outputs": [],
   "source": [
    "round(df_popular['minimum_nights'].describe())"
   ]
  },
  {
   "cell_type": "markdown",
   "metadata": {},
   "source": [
    "Because 75% of customers stayed under or equal to 7 nights, I then checked the histogram of this data. Next, I calculated, how much proportion of customeers who booked Airbnb property under this criterion. "
   ]
  },
  {
   "cell_type": "code",
   "execution_count": null,
   "metadata": {},
   "outputs": [],
   "source": [
    "print(f\"Proportion: {(df_popular['minimum_nights'] <= 7).mean():.2%}\")"
   ]
  },
  {
   "cell_type": "code",
   "execution_count": 245,
   "metadata": {},
   "outputs": [
    {
     "data": {
      "text/plain": [
       "np.int64(11516)"
      ]
     },
     "execution_count": 245,
     "metadata": {},
     "output_type": "execute_result"
    }
   ],
   "source": [
    "(df_popular['minimum_nights'] <= 7).sum()"
   ]
  },
  {
   "cell_type": "code",
   "execution_count": null,
   "metadata": {},
   "outputs": [],
   "source": [
    "(df_popular['minimum_nights'] > 7).sum()"
   ]
  },
  {
   "cell_type": "code",
   "execution_count": null,
   "metadata": {},
   "outputs": [],
   "source": [
    "plt.figure(figsize=(5, 5))\n",
    "ax = sns.histplot(data=df_popular[df_popular['minimum_nights'] <= 7], x='minimum_nights', discrete=True)\n",
    "plt.title('Minimum Nights Under or Equal to 7 Nights')\n",
    "plt.xlabel('Minimum Nights')\n",
    "plt.ylabel('Count')\n",
    "\n",
    "# Add count labels on top of each bar\n",
    "for p in ax.patches:\n",
    "    height = p.get_height()\n",
    "    if height > 0:\n",
    "        ax.annotate(f'{int(height)}', \n",
    "                    (p.get_x() + p.get_width() / 2., height),\n",
    "                    ha='center', va='bottom', fontsize=9)\n",
    "\n",
    "plt.tight_layout()\n",
    "plt.show()\n"
   ]
  },
  {
   "cell_type": "code",
   "execution_count": 246,
   "metadata": {},
   "outputs": [
    {
     "data": {
      "text/html": [
       "<div>\n",
       "<style scoped>\n",
       "    .dataframe tbody tr th:only-of-type {\n",
       "        vertical-align: middle;\n",
       "    }\n",
       "\n",
       "    .dataframe tbody tr th {\n",
       "        vertical-align: top;\n",
       "    }\n",
       "\n",
       "    .dataframe thead th {\n",
       "        text-align: right;\n",
       "    }\n",
       "</style>\n",
       "<table border=\"1\" class=\"dataframe\">\n",
       "  <thead>\n",
       "    <tr style=\"text-align: right;\">\n",
       "      <th></th>\n",
       "      <th>name</th>\n",
       "    </tr>\n",
       "    <tr>\n",
       "      <th>room_type</th>\n",
       "      <th></th>\n",
       "    </tr>\n",
       "  </thead>\n",
       "  <tbody>\n",
       "    <tr>\n",
       "      <th>Shared room</th>\n",
       "      <td>12</td>\n",
       "    </tr>\n",
       "    <tr>\n",
       "      <th>Private room</th>\n",
       "      <td>832</td>\n",
       "    </tr>\n",
       "    <tr>\n",
       "      <th>Hotel room</th>\n",
       "      <td>15</td>\n",
       "    </tr>\n",
       "    <tr>\n",
       "      <th>Entire home/apt</th>\n",
       "      <td>3276</td>\n",
       "    </tr>\n",
       "  </tbody>\n",
       "</table>\n",
       "</div>"
      ],
      "text/plain": [
       "                 name\n",
       "room_type            \n",
       "Shared room        12\n",
       "Private room      832\n",
       "Hotel room         15\n",
       "Entire home/apt  3276"
      ]
     },
     "execution_count": 246,
     "metadata": {},
     "output_type": "execute_result"
    }
   ],
   "source": [
    "df_popular[df_popular['minimum_nights']>=7].groupby('room_type')[['name']].count().sort_values(by='room_type',ascending=False)"
   ]
  },
  {
   "cell_type": "code",
   "execution_count": 247,
   "metadata": {},
   "outputs": [
    {
     "data": {
      "text/html": [
       "<div>\n",
       "<style scoped>\n",
       "    .dataframe tbody tr th:only-of-type {\n",
       "        vertical-align: middle;\n",
       "    }\n",
       "\n",
       "    .dataframe tbody tr th {\n",
       "        vertical-align: top;\n",
       "    }\n",
       "\n",
       "    .dataframe thead th {\n",
       "        text-align: right;\n",
       "    }\n",
       "</style>\n",
       "<table border=\"1\" class=\"dataframe\">\n",
       "  <thead>\n",
       "    <tr style=\"text-align: right;\">\n",
       "      <th></th>\n",
       "      <th>name</th>\n",
       "    </tr>\n",
       "    <tr>\n",
       "      <th>neighbourhood</th>\n",
       "      <th></th>\n",
       "    </tr>\n",
       "  </thead>\n",
       "  <tbody>\n",
       "    <tr>\n",
       "      <th>Vadhana</th>\n",
       "      <td>676</td>\n",
       "    </tr>\n",
       "    <tr>\n",
       "      <th>Khlong Toei</th>\n",
       "      <td>545</td>\n",
       "    </tr>\n",
       "    <tr>\n",
       "      <th>Huai Khwang</th>\n",
       "      <td>341</td>\n",
       "    </tr>\n",
       "    <tr>\n",
       "      <th>Ratchathewi</th>\n",
       "      <td>318</td>\n",
       "    </tr>\n",
       "    <tr>\n",
       "      <th>Bang Rak</th>\n",
       "      <td>201</td>\n",
       "    </tr>\n",
       "    <tr>\n",
       "      <th>Bang Na</th>\n",
       "      <td>191</td>\n",
       "    </tr>\n",
       "    <tr>\n",
       "      <th>Phra Khanong</th>\n",
       "      <td>177</td>\n",
       "    </tr>\n",
       "    <tr>\n",
       "      <th>Chatu Chak</th>\n",
       "      <td>173</td>\n",
       "    </tr>\n",
       "    <tr>\n",
       "      <th>Sathon</th>\n",
       "      <td>155</td>\n",
       "    </tr>\n",
       "    <tr>\n",
       "      <th>Parthum Wan</th>\n",
       "      <td>140</td>\n",
       "    </tr>\n",
       "  </tbody>\n",
       "</table>\n",
       "</div>"
      ],
      "text/plain": [
       "               name\n",
       "neighbourhood      \n",
       "Vadhana         676\n",
       "Khlong Toei     545\n",
       "Huai Khwang     341\n",
       "Ratchathewi     318\n",
       "Bang Rak        201\n",
       "Bang Na         191\n",
       "Phra Khanong    177\n",
       "Chatu Chak      173\n",
       "Sathon          155\n",
       "Parthum Wan     140"
      ]
     },
     "execution_count": 247,
     "metadata": {},
     "output_type": "execute_result"
    }
   ],
   "source": [
    "df_popular[df_popular['minimum_nights']>=7].groupby('neighbourhood')[['name']].count().sort_values(by='name',ascending=False).head(10)"
   ]
  },
  {
   "cell_type": "markdown",
   "metadata": {},
   "source": [
    "We can observe from data that the majority of guests stay for around 1-3 nights. Additionally, there appears to be demand for stays around 7 nights.  \n",
    "\n",
    "Furthermore, most of these listings are clustered around Vadhana, Khlong Toei, and Huai Khwang. These areas are recognized as business districts in Bangkok, Thailand, known for their commercial activities, office buildings, shopping centers, and various business establishments. \n",
    "\n",
    "Khlong Toei, one of Bangkok's oldest and largest districts, hosts a significant portion of the city's industrial and commercial activities. Vadhana, centrally located, is home to many office buildings, embassies, and upscale residential areas. Huai Khwang is also a bustling area, featuring a blend of commercial and residential properties, including office buildings, shopping malls, and entertainment venues."
   ]
  },
  {
   "cell_type": "markdown",
   "metadata": {},
   "source": [
    "Short-term bookings are highly favored by guests, which is why reducing minimum night requirements is expected to help increase Airbnb occupancy rates. As noted by Boston.com, “For Airbnb fans, having space for a family and pets when traveling was a big reason they remain loyal to short-term rentals over hotels... the immersive experience of ‘traveling like a local’ keeps guests booked.”"
   ]
  },
  {
   "cell_type": "markdown",
   "metadata": {},
   "source": [
    "# **4. Conclusion: Problem & Solution Framework**\n"
   ]
  },
  {
   "cell_type": "markdown",
   "metadata": {},
   "source": [
    "**Problem 1: Low Occupancy Rates (33.31%)**\n",
    "\n",
    "Many Airbnb hosts in Bangkok struggle to attract bookings, largely due to poor listing management. The majority of low-performing listings are run by micro or medium-scale hosts who may lack professional experience in hospitality. To address this, Airbnb should provide targeted hospitality training focused on guest communication, cleanliness, and review handling. This would improve guest satisfaction and increase both bookings and listing visibility, ultimately raising occupancy rates.\n",
    "\n",
    "**Problem 2: Poor Management of Guest Reviews**\n",
    "\n",
    "A significant number of listings—5,425 to be exact—have no guest reviews, limiting their visibility and credibility on the platform. Since listings with more reviews tend to be more popular and receive more bookings, improving review management is crucial. Hosts should be encouraged to automate post-stay messages, deliver memorable guest experiences, and follow up during the stay. Ethical encouragement to leave reviews can greatly boost visibility and trust among potential guests.\n",
    "\n",
    "**Problem 3: Room Type and Minimum Nights Issues**\n",
    "\n",
    "Shared and hotel-style rooms tend to underperform compared to entire homes and private rooms. Additionally, listings with long minimum night requirements often deter short-term travelers, reducing booking potential. The solution is to prioritize entire homes and private rooms, which are more in demand, and to reduce minimum night requirements to better align with short-stay market preferences. This would increase listing flexibility and attract a wider range of guests.\n",
    "\n",
    "**Problem 4: Ineffective Pricing Strategy**\n",
    "\n",
    "Some high-priced listings receive no bookings at all, indicating that overpricing can severely limit visibility and guest interest. A one-size-fits-all pricing model does not work in a diverse market like Bangkok. Instead, hosts should adopt a localized pricing strategy that considers the median price by room type and neighborhood. Prices should also be adjusted based on occupancy rate, review status, and minimum stay requirements to optimize both visibility and profitability.\n",
    "\n",
    "**Problem 5: Uneven Listing Distribution Across Neighborhoods**\n",
    "\n",
    "While neighborhoods like Huai Khwang, Bang Sue, and Nong Chok show high demand, they remain underrepresented in terms of Airbnb listings. Conversely, some oversaturated areas underperform despite a high number of listings. This calls for targeted listing expansion in high-demand, under-supplied neighborhoods. Decisions should be guided by occupancy-to-listing ratio analysis to ensure resources are directed toward areas with the highest growth potential."
   ]
  },
  {
   "cell_type": "markdown",
   "metadata": {},
   "source": [
    "### Conclusion Table\n",
    "\n",
    "| **Problem** | **Description** | **Solution** | **Expected Outcome** |\n",
    "|-------------|------------------|--------------|-----------------------|\n",
    "| 1. Low Occupancy Rates | Many hosts (esp. micro/medium-scale) struggle with bookings due to poor listing management. | Hospitality training for non-professional hosts (focus: guest communication, cleanliness, reviews). | Increased guest satisfaction, bookings, and listing popularity. |\n",
    "| 2. Poor Review Management | 5,425 listings have zero reviews, reducing visibility and trust. | Automate post-stay messages, enhance guest experience, ethically encourage reviews. | Higher review counts → more visibility and occupancy. |\n",
    "| 3. Room Type & Minimum Nights | Shared/hotel rooms underperform; long stay requirements reduce flexibility. | Prioritize entire homes/private rooms and reduce minimum night stays. | Higher booking potential and improved guest fit. |\n",
    "| 4. Ineffective Pricing Strategy | Some high-priced listings have no bookings; overpricing reduces traffic. | Use median price per room type and neighborhood; adjust for occupancy, reviews, stay length. | Optimized pricing → better visibility and conversion. |\n",
    "| 5. Uneven Listing Distribution | Undersupply in high-demand areas (e.g., Huai Khwang); oversupply in low-demand zones. | Targeted expansion in high-demand neighborhoods based on occupancy-to-listing ratio. | Better market balance and growth in high-potential areas. |\n"
   ]
  },
  {
   "cell_type": "code",
   "execution_count": null,
   "metadata": {},
   "outputs": [],
   "source": [
    "# Saving the dataset to CSV\n",
    "\n",
    "df_popular.to_csv('AirbnbPopularData.csv')"
   ]
  }
 ],
 "metadata": {
  "kernelspec": {
   "display_name": "Python 3",
   "language": "python",
   "name": "python3"
  },
  "language_info": {
   "codemirror_mode": {
    "name": "ipython",
    "version": 3
   },
   "file_extension": ".py",
   "mimetype": "text/x-python",
   "name": "python",
   "nbconvert_exporter": "python",
   "pygments_lexer": "ipython3",
   "version": "3.12.1"
  }
 },
 "nbformat": 4,
 "nbformat_minor": 2
}
